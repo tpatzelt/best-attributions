{
 "cells": [
  {
   "cell_type": "code",
   "execution_count": 1,
   "id": "2142badd",
   "metadata": {},
   "outputs": [],
   "source": [
    "import captum\n",
    "import torch\n",
    "import thermostat\n",
    "import numpy as np\n",
    "from transformers import AutoTokenizer, AutoModelForSequenceClassification\n",
    "from captum.attr import IntegratedGradients, FeatureAblation\n",
    "import onnxruntime as ort\n",
    "from tqdm import tqdm\n",
    "from helpers import load_distilbert\n",
    "import json\n",
    "from baselines import ZeroBaselineFactory\n",
    "from evaluators import ProportionalityEvaluator\n"
   ]
  },
  {
   "cell_type": "code",
   "execution_count": 2,
   "id": "6a1742c1",
   "metadata": {},
   "outputs": [],
   "source": [
    "with open(\"../data/imdb-distilbert-1000.json\", \"r\") as fp:\n",
    "    dataset = json.load(fp)"
   ]
  },
  {
   "cell_type": "code",
   "execution_count": 3,
   "outputs": [],
   "source": [
    "model = load_distilbert(from_notebook=1)\n",
    "evaluator = ProportionalityEvaluator(model=model, baseline_factory=ZeroBaselineFactory)\n",
    "\n",
    "\n"
   ],
   "metadata": {
    "collapsed": false,
    "pycharm": {
     "name": "#%%\n"
    }
   }
  },
  {
   "cell_type": "code",
   "execution_count": 9,
   "outputs": [],
   "source": [
    "forward_func = lambda x: torch.tensor([model(np.array(x)[0])])\n",
    "method = FeatureAblation(forward_func)"
   ],
   "metadata": {
    "collapsed": false,
    "pycharm": {
     "name": "#%%\n"
    }
   }
  },
  {
   "cell_type": "code",
   "execution_count": 10,
   "id": "f085dadf",
   "metadata": {},
   "outputs": [
    {
     "name": "stderr",
     "output_type": "stream",
     "text": [
      "100%|██████████| 10/10 [00:02<00:00,  3.60it/s]\n"
     ]
    }
   ],
   "source": [
    "attributions = []\n",
    "for sample in tqdm(dataset[:10]):\n",
    "    input_ids = torch.tensor([sample[\"input_ids\"]]).long()\n",
    "    target_class = sample[\"label\"]\n",
    "    attribution = method.attribute(input_ids,target=target_class, method='gausslegendre')[0]\\\n",
    "        .detach().numpy()\n",
    "\n",
    "    tpn= evaluator.compute_tpn(observation=input_ids[0].detach().numpy(),\n",
    "                               attribution_values=attribution)\n",
    "    tps= evaluator.compute_tps(observation=input_ids[0].detach().numpy(),\n",
    "                               attribution_values=attribution)\n",
    "\n",
    "    attributions.append(dict(idx=sample['idx'], attribution_values=attribution.tolist(),\n",
    "                             tpn=tpn, tps=tps))"
   ]
  },
  {
   "cell_type": "code",
   "execution_count": 11,
   "id": "d1999a22",
   "metadata": {},
   "outputs": [],
   "source": [
    "with open(\"../data/feature-ablation.json\", \"w\") as fp:\n",
    "    json.dump(attributions, fp)"
   ]
  },
  {
   "cell_type": "code",
   "execution_count": 6,
   "id": "b2b20fd6",
   "metadata": {},
   "outputs": [],
   "source": []
  }
 ],
 "metadata": {
  "kernelspec": {
   "display_name": "Python 3 (ipykernel)",
   "language": "python",
   "name": "python3"
  },
  "language_info": {
   "codemirror_mode": {
    "name": "ipython",
    "version": 3
   },
   "file_extension": ".py",
   "mimetype": "text/x-python",
   "name": "python",
   "nbconvert_exporter": "python",
   "pygments_lexer": "ipython3",
   "version": "3.9.7"
  }
 },
 "nbformat": 4,
 "nbformat_minor": 5
}