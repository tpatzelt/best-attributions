{
 "cells": [
  {
   "cell_type": "code",
   "execution_count": 1,
   "id": "05505b73",
   "metadata": {},
   "outputs": [],
   "source": [
    "import sys\n",
    "from pathlib import Path\n",
    "sys.path.append(str(Path.cwd().parent))\n",
    "\n",
    "from helpers import load_distilbert\n",
    "import json\n",
    "from sacred import Experiment\n",
    "from sacred.observers import MongoObserver, FileStorageObserver\n",
    "\n",
    "import numpy as np\n",
    "from baselines import ZeroBaselineFactory\n",
    "from evaluators import ProportionalityEvaluator\n",
    "from helpers import load_albert_v2, load_imdb_albert_lig_data, extract_token_ids_and_attributions, load_distilbert\n",
    "from attribution_methods import RandomAttributionValues\n",
    "from tqdm import tqdm\n"
   ]
  },
  {
   "cell_type": "code",
   "execution_count": 2,
   "id": "87f7957a",
   "metadata": {},
   "outputs": [],
   "source": [
    "ex = Experiment('random_baseline', interactive=True)\n",
    "ex.observers.append([MongoObserver(), FileStorageObserver(\"../logs\")])\n",
    "\n",
    "def _log_scores(name: str, scores: []):\n",
    "    for score in sorted(scores):\n",
    "        ex.log_scalar(name, score)\n"
   ]
  },
  {
   "cell_type": "code",
   "execution_count": 3,
   "id": "18731dd6",
   "metadata": {},
   "outputs": [
    {
     "name": "stderr",
     "output_type": "stream",
     "text": [
      "Reusing dataset thermostat (/home/tim/.cache/huggingface/datasets/thermostat/imdb-albert-lig/1.0.1/0cbe93e1fbe5b8ed0217559442d8b49a80fd4c2787185f2d7940817c67d8707b)\n"
     ]
    },
    {
     "name": "stdout",
     "output_type": "stream",
     "text": [
      "Loading Thermostat configuration: imdb-albert-lig\n"
     ]
    }
   ],
   "source": [
    "data = load_imdb_albert_lig_data()\n",
    "model = load_distilbert(from_notebook=True)"
   ]
  },
  {
   "cell_type": "code",
   "execution_count": 4,
   "id": "7d41666f",
   "metadata": {},
   "outputs": [],
   "source": [
    "observations, lig_attributions = zip(*[extract_token_ids_and_attributions(d) for d in data])\n",
    "\n",
    "evaluator = ProportionalityEvaluator(model=model, baseline_factory=ZeroBaselineFactory)\n"
   ]
  },
  {
   "cell_type": "code",
   "execution_count": 6,
   "id": "f9ae07f8",
   "metadata": {},
   "outputs": [
    {
     "name": "stderr",
     "output_type": "stream",
     "text": [
      "0it [00:03, ?it/s]\n"
     ]
    }
   ],
   "source": [
    "tpn_results, tps_results = [], []\n",
    "for observation, lig_attribution in tqdm(zip(observations, lig_attributions)):\n",
    "    random_attribution = RandomAttributionValues.get_attribution_values(observation=observation)\n",
    "    tpn_results.append((\n",
    "        evaluator.compute_tpn(observation=observation, attribution_values=lig_attribution),\n",
    "        evaluator.compute_tpn(observation=observation, attribution_values=random_attribution)))\n",
    "    tps_results.append((\n",
    "        evaluator.compute_tps(observation=observation, attribution_values=lig_attribution),\n",
    "        evaluator.compute_tps(observation=observation, attribution_values=random_attribution)))  \n"
   ]
  },
  {
   "cell_type": "code",
   "execution_count": 7,
   "id": "3bd6fca3",
   "metadata": {},
   "outputs": [],
   "source": [
    "with open(\"../data/random_all_samples.json\",\"w\") as fp:\n",
    "    json.dump(dict(tpn_results=tpn_results, tps_results=tps_results), fp)"
   ]
  },
  {
   "cell_type": "code",
   "execution_count": 9,
   "id": "c2f2d669",
   "metadata": {},
   "outputs": [],
   "source": [
    "iterations = 1000\n",
    "observation, attribution_values = extract_token_ids_and_attributions(data[42])\n",
    "lig_tpn = evaluator.compute_tpn(observation=observation, attribution_values=attribution_values)\n",
    "lig_tps = evaluator.compute_tps(observation=observation, attribution_values=attribution_values)\n",
    "random_attributions = [RandomAttributionValues.get_attribution_values(observation) for _ in range(iterations)]\n",
    "random_tpn_results, random_tps_results = [], []\n",
    "for attribution in twdm(random_attributions):\n",
    "    random_tpn_results.append(evaluator.compute_tpn(observation=observation, attribution_values=attribution))\n",
    "    random_tps_results.append(evaluator.compute_tps(observation=observation, attribution_values=attribution))  \n"
   ]
  },
  {
   "cell_type": "code",
   "execution_count": 10,
   "id": "528d08c0",
   "metadata": {},
   "outputs": [],
   "source": [
    "with open(\"../data/random_one_sample.json\",\"w\") as fp:\n",
    "    json.dump(dict(random_tpn_results=random_tpn_results, random_tps_results=random_tps_results), fp)"
   ]
  }
 ],
 "metadata": {
  "kernelspec": {
   "display_name": "Python 3 (ipykernel)",
   "language": "python",
   "name": "python3"
  },
  "language_info": {
   "codemirror_mode": {
    "name": "ipython",
    "version": 3
   },
   "file_extension": ".py",
   "mimetype": "text/x-python",
   "name": "python",
   "nbconvert_exporter": "python",
   "pygments_lexer": "ipython3",
   "version": "3.9.5"
  }
 },
 "nbformat": 4,
 "nbformat_minor": 5
}
