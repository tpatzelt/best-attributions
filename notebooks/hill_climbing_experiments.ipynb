{
 "cells": [
  {
   "cell_type": "code",
   "execution_count": 1,
   "metadata": {
    "collapsed": true
   },
   "outputs": [],
   "source": [
    "import sys\n",
    "from pathlib import Path\n",
    "sys.path.append(str(Path.cwd().parent))\n",
    "\n",
    "from helpers import load_distilbert\n",
    "import json\n",
    "from sacred import Experiment\n",
    "from sacred.observers import MongoObserver, FileStorageObserver\n",
    "\n",
    "import numpy as np\n",
    "from baselines import ZeroBaselineFactory\n",
    "from evaluators import ProportionalityEvaluator\n",
    "from helpers import load_albert_v2, load_imdb_albert_lig_data, extract_token_ids_and_attributions, load_distilbert\n",
    "from attribution_methods import RandomAttributionValues, HillClimber\n",
    "from tqdm import tqdm\n",
    "\n",
    "# hill climbing search of a one-dimensional objective function\n",
    "from numpy import asarray\n",
    "from numpy import arange\n",
    "from numpy.random import randn\n",
    "from numpy.random import rand\n",
    "from numpy.random import seed\n",
    "from matplotlib import pyplot\n",
    "from evaluators import ProportionalityEvaluator"
   ]
  },
  {
   "cell_type": "code",
   "execution_count": 14,
   "outputs": [
    {
     "name": "stderr",
     "output_type": "stream",
     "text": [
      "Reusing dataset thermostat (/home/tim/.cache/huggingface/datasets/thermostat/imdb-albert-lig/1.0.1/0cbe93e1fbe5b8ed0217559442d8b49a80fd4c2787185f2d7940817c67d8707b)\n"
     ]
    },
    {
     "name": "stdout",
     "output_type": "stream",
     "text": [
      "Loading Thermostat configuration: imdb-albert-lig\n"
     ]
    }
   ],
   "source": [
    "data = load_imdb_albert_lig_data()\n",
    "model = load_distilbert(from_notebook=1)"
   ],
   "metadata": {
    "collapsed": false,
    "pycharm": {
     "name": "#%%\n"
    }
   }
  },
  {
   "cell_type": "code",
   "execution_count": 15,
   "outputs": [],
   "source": [
    "observations, lig_attributions = zip(*[extract_token_ids_and_attributions(d) for d in data[:200]])\n",
    "del data\n",
    "\n",
    "evaluator = ProportionalityEvaluator(model=model, baseline_factory=ZeroBaselineFactory)\n",
    "tpn_objective = lambda x: evaluator.compute_tpn(observation=observation, attribution_values=x)\n",
    "tps_objective = lambda x: evaluator.compute_tps(observation=observation, attribution_values=x)\n"
   ],
   "metadata": {
    "collapsed": false,
    "pycharm": {
     "name": "#%%\n"
    }
   }
  },
  {
   "cell_type": "code",
   "execution_count": 16,
   "outputs": [],
   "source": [
    "hill_climber_tpn = HillClimber(objective=tpn_objective, bounds=(0,1), iterations=60, step_size=.1)\n",
    "hill_climber_tps = HillClimber(objective=tps_objective, bounds=(0,1), iterations=60, step_size=.1)"
   ],
   "metadata": {
    "collapsed": false,
    "pycharm": {
     "name": "#%%\n"
    }
   }
  },
  {
   "cell_type": "markdown",
   "source": [
    "## Running Hillclimbing once on all samples"
   ],
   "metadata": {
    "collapsed": false
   }
  },
  {
   "cell_type": "code",
   "execution_count": 7,
   "outputs": [
    {
     "name": "stderr",
     "output_type": "stream",
     "text": [
      "  0%|          | 0/2 [00:00<?, ?it/s]"
     ]
    },
    {
     "name": "stdout",
     "output_type": "stream",
     "text": [
      ">3 = 0.02599\n",
      ">62 = 0.02584\n",
      ">65 = 0.02504\n",
      ">70 = 0.02411\n",
      ">72 = 0.01939\n",
      ">74 = 0.01910\n",
      ">76 = 0.01899\n",
      ">86 = 0.01881\n",
      ">97 = 0.01873\n",
      ">98 = 0.01560\n"
     ]
    },
    {
     "name": "stderr",
     "output_type": "stream",
     "text": [
      " 50%|█████     | 1/2 [00:55<00:55, 55.24s/it]"
     ]
    },
    {
     "name": "stdout",
     "output_type": "stream",
     "text": [
      ">2 = 0.00651\n"
     ]
    },
    {
     "name": "stderr",
     "output_type": "stream",
     "text": [
      "100%|██████████| 2/2 [04:12<00:00, 126.35s/it]\n"
     ]
    }
   ],
   "source": [
    "tpn_results, tps_results = [], []\n",
    "for i in tqdm(range(len(observations))):\n",
    "    observation = observations[i]\n",
    "    hc_tpn_results,_,_ = hill_climber_tpn.get_attribution_values(observation=observation)\n",
    "    tpn_results.append(evaluator.compute_tpn(observation=observation, attribution_values=hc_tpn_results))\n",
    "    tps_results.append(evaluator.compute_tps(observation=observation,\n",
    "\t\t\t\t\t\t\t\t\t\t\t attribution_values=hc_tpn_results))"
   ],
   "metadata": {
    "collapsed": false,
    "pycharm": {
     "name": "#%%\n"
    }
   }
  },
  {
   "cell_type": "code",
   "execution_count": 8,
   "outputs": [],
   "source": [
    "with open(\"../data/tpn_hillclimber_all_samples.json\",\"w\") as fp:\n",
    "    json.dump(dict(tpn_results=tpn_results, tps_results=tps_results), fp)\n"
   ],
   "metadata": {
    "collapsed": false,
    "pycharm": {
     "name": "#%%\n"
    }
   }
  },
  {
   "cell_type": "code",
   "execution_count": null,
   "outputs": [],
   "source": [
    "tpn_results, tps_results = [], []\n",
    "for i in tqdm(range(len(observations))):\n",
    "    observation = observations[i]\n",
    "    hc_tps_results,_,_ = hill_climber_tps.get_attribution_values(observation=observation)\n",
    "    tpn_results.append(evaluator.compute_tpn(observation=observation,\n",
    "                                             attribution_values=hc_tps_results))\n",
    "    tps_results.append(evaluator.compute_tps(observation=observation,\n",
    "\t\t\t\t\t\t\t\t\t\t\t attribution_values=hc_tps_results))"
   ],
   "metadata": {
    "collapsed": false,
    "pycharm": {
     "name": "#%%\n"
    }
   }
  },
  {
   "cell_type": "code",
   "execution_count": null,
   "outputs": [],
   "source": [
    "with open(\"../data/tps_hillclimber_all_samples.json\",\"w\") as fp:\n",
    "    json.dump(dict(tpn_results=tpn_results, tps_results=tps_results), fp)"
   ],
   "metadata": {
    "collapsed": false,
    "pycharm": {
     "name": "#%%\n"
    }
   }
  },
  {
   "cell_type": "markdown",
   "source": [
    "## Running Hillclimbing repeatedly on one sample"
   ],
   "metadata": {
    "collapsed": false,
    "pycharm": {
     "name": "#%% md\n"
    }
   }
  },
  {
   "cell_type": "code",
   "execution_count": 17,
   "outputs": [
    {
     "name": "stdout",
     "output_type": "stream",
     "text": [
      ">0 = 0.03566\n",
      ">1 = 0.03230\n",
      ">2 = 0.02672\n",
      ">3 = 0.02027\n",
      ">4 = 0.01559\n",
      ">6 = 0.00980\n",
      ">12 = 0.00908\n",
      ">32 = 0.00455\n",
      ">41 = 0.00284\n",
      ">6 = 0.00909\n"
     ]
    },
    {
     "ename": "KeyboardInterrupt",
     "evalue": "",
     "output_type": "error",
     "traceback": [
      "\u001B[0;31m---------------------------------------------------------------------------\u001B[0m",
      "\u001B[0;31mKeyboardInterrupt\u001B[0m                         Traceback (most recent call last)",
      "\u001B[0;32m/tmp/ipykernel_19535/490661420.py\u001B[0m in \u001B[0;36m<module>\u001B[0;34m\u001B[0m\n\u001B[1;32m      6\u001B[0m \u001B[0;32mfor\u001B[0m \u001B[0m_\u001B[0m \u001B[0;32min\u001B[0m \u001B[0mrange\u001B[0m\u001B[0;34m(\u001B[0m\u001B[0miterations\u001B[0m\u001B[0;34m)\u001B[0m\u001B[0;34m:\u001B[0m\u001B[0;34m\u001B[0m\u001B[0;34m\u001B[0m\u001B[0m\n\u001B[1;32m      7\u001B[0m     \u001B[0mhc_tps_result\u001B[0m\u001B[0;34m,\u001B[0m\u001B[0m_\u001B[0m\u001B[0;34m,\u001B[0m\u001B[0m_\u001B[0m \u001B[0;34m=\u001B[0m \u001B[0mhill_climber_tpn\u001B[0m\u001B[0;34m.\u001B[0m\u001B[0mget_attribution_values\u001B[0m\u001B[0;34m(\u001B[0m\u001B[0mobservation\u001B[0m\u001B[0;34m=\u001B[0m\u001B[0mobservation\u001B[0m\u001B[0;34m)\u001B[0m\u001B[0;34m\u001B[0m\u001B[0;34m\u001B[0m\u001B[0m\n\u001B[0;32m----> 8\u001B[0;31m     \u001B[0mhc_tpn_result\u001B[0m\u001B[0;34m,\u001B[0m\u001B[0m_\u001B[0m\u001B[0;34m,\u001B[0m\u001B[0m_\u001B[0m \u001B[0;34m=\u001B[0m \u001B[0mhill_climber_tpn\u001B[0m\u001B[0;34m.\u001B[0m\u001B[0mget_attribution_values\u001B[0m\u001B[0;34m(\u001B[0m\u001B[0mobservation\u001B[0m\u001B[0;34m=\u001B[0m\u001B[0mobservation\u001B[0m\u001B[0;34m)\u001B[0m\u001B[0;34m\u001B[0m\u001B[0;34m\u001B[0m\u001B[0m\n\u001B[0m\u001B[1;32m      9\u001B[0m     \u001B[0mhc_tpn_results\u001B[0m\u001B[0;34m.\u001B[0m\u001B[0mappend\u001B[0m\u001B[0;34m(\u001B[0m\u001B[0mhc_tpn_results\u001B[0m\u001B[0;34m)\u001B[0m\u001B[0;34m\u001B[0m\u001B[0;34m\u001B[0m\u001B[0m\n\u001B[1;32m     10\u001B[0m     \u001B[0mhc_tps_results\u001B[0m\u001B[0;34m.\u001B[0m\u001B[0mappend\u001B[0m\u001B[0;34m(\u001B[0m\u001B[0mhc_tps_result\u001B[0m\u001B[0;34m)\u001B[0m\u001B[0;34m\u001B[0m\u001B[0;34m\u001B[0m\u001B[0m\n",
      "\u001B[0;32m~/PycharmProjects/best-attributions/attribution_methods.py\u001B[0m in \u001B[0;36mget_attribution_values\u001B[0;34m(self, observation)\u001B[0m\n\u001B[1;32m     27\u001B[0m             \u001B[0mcandidate\u001B[0m \u001B[0;34m=\u001B[0m \u001B[0msolution\u001B[0m \u001B[0;34m+\u001B[0m \u001B[0mnp\u001B[0m\u001B[0;34m.\u001B[0m\u001B[0mrandom\u001B[0m\u001B[0;34m.\u001B[0m\u001B[0mrandn\u001B[0m\u001B[0;34m(\u001B[0m\u001B[0mlen\u001B[0m\u001B[0;34m(\u001B[0m\u001B[0mbounds\u001B[0m\u001B[0;34m)\u001B[0m\u001B[0;34m)\u001B[0m \u001B[0;34m*\u001B[0m \u001B[0mself\u001B[0m\u001B[0;34m.\u001B[0m\u001B[0mstep_size\u001B[0m\u001B[0;34m\u001B[0m\u001B[0;34m\u001B[0m\u001B[0m\n\u001B[1;32m     28\u001B[0m             \u001B[0;31m# evaluate candidate point\u001B[0m\u001B[0;34m\u001B[0m\u001B[0;34m\u001B[0m\u001B[0m\n\u001B[0;32m---> 29\u001B[0;31m             \u001B[0mcandidate_eval\u001B[0m \u001B[0;34m=\u001B[0m \u001B[0mself\u001B[0m\u001B[0;34m.\u001B[0m\u001B[0mobjective\u001B[0m\u001B[0;34m(\u001B[0m\u001B[0mcandidate\u001B[0m\u001B[0;34m)\u001B[0m\u001B[0;34m\u001B[0m\u001B[0;34m\u001B[0m\u001B[0m\n\u001B[0m\u001B[1;32m     30\u001B[0m             \u001B[0;31m# check if we should keep the new point\u001B[0m\u001B[0;34m\u001B[0m\u001B[0;34m\u001B[0m\u001B[0m\n\u001B[1;32m     31\u001B[0m             \u001B[0;32mif\u001B[0m \u001B[0mcandidate_eval\u001B[0m \u001B[0;34m<=\u001B[0m \u001B[0msolution_eval\u001B[0m\u001B[0;34m:\u001B[0m\u001B[0;34m\u001B[0m\u001B[0;34m\u001B[0m\u001B[0m\n",
      "\u001B[0;32m/tmp/ipykernel_19535/3699459230.py\u001B[0m in \u001B[0;36m<lambda>\u001B[0;34m(x)\u001B[0m\n\u001B[1;32m      3\u001B[0m \u001B[0;34m\u001B[0m\u001B[0m\n\u001B[1;32m      4\u001B[0m \u001B[0mevaluator\u001B[0m \u001B[0;34m=\u001B[0m \u001B[0mProportionalityEvaluator\u001B[0m\u001B[0;34m(\u001B[0m\u001B[0mmodel\u001B[0m\u001B[0;34m=\u001B[0m\u001B[0mmodel\u001B[0m\u001B[0;34m,\u001B[0m \u001B[0mbaseline_factory\u001B[0m\u001B[0;34m=\u001B[0m\u001B[0mZeroBaselineFactory\u001B[0m\u001B[0;34m)\u001B[0m\u001B[0;34m\u001B[0m\u001B[0;34m\u001B[0m\u001B[0m\n\u001B[0;32m----> 5\u001B[0;31m \u001B[0mtpn_objective\u001B[0m \u001B[0;34m=\u001B[0m \u001B[0;32mlambda\u001B[0m \u001B[0mx\u001B[0m\u001B[0;34m:\u001B[0m \u001B[0mevaluator\u001B[0m\u001B[0;34m.\u001B[0m\u001B[0mcompute_tpn\u001B[0m\u001B[0;34m(\u001B[0m\u001B[0mobservation\u001B[0m\u001B[0;34m=\u001B[0m\u001B[0mobservation\u001B[0m\u001B[0;34m,\u001B[0m \u001B[0mattribution_values\u001B[0m\u001B[0;34m=\u001B[0m\u001B[0mx\u001B[0m\u001B[0;34m)\u001B[0m\u001B[0;34m\u001B[0m\u001B[0;34m\u001B[0m\u001B[0m\n\u001B[0m\u001B[1;32m      6\u001B[0m \u001B[0mtps_objective\u001B[0m \u001B[0;34m=\u001B[0m \u001B[0;32mlambda\u001B[0m \u001B[0mx\u001B[0m\u001B[0;34m:\u001B[0m \u001B[0mevaluator\u001B[0m\u001B[0;34m.\u001B[0m\u001B[0mcompute_tps\u001B[0m\u001B[0;34m(\u001B[0m\u001B[0mobservation\u001B[0m\u001B[0;34m=\u001B[0m\u001B[0mobservation\u001B[0m\u001B[0;34m,\u001B[0m \u001B[0mattribution_values\u001B[0m\u001B[0;34m=\u001B[0m\u001B[0mx\u001B[0m\u001B[0;34m)\u001B[0m\u001B[0;34m\u001B[0m\u001B[0;34m\u001B[0m\u001B[0m\n\u001B[1;32m      7\u001B[0m \u001B[0;34m\u001B[0m\u001B[0m\n",
      "\u001B[0;32m~/PycharmProjects/best-attributions/evaluators.py\u001B[0m in \u001B[0;36mcompute_tpn\u001B[0;34m(self, observation, attribution_values, saliency_ratio_per_step)\u001B[0m\n\u001B[1;32m    125\u001B[0m                 \u001B[0mattribution_values\u001B[0m\u001B[0;34m=\u001B[0m\u001B[0mattribution_values\u001B[0m\u001B[0;34m,\u001B[0m\u001B[0;34m\u001B[0m\u001B[0;34m\u001B[0m\u001B[0m\n\u001B[1;32m    126\u001B[0m                 saliency_ratio_per_step=saliency_ratio_per_step))\n\u001B[0;32m--> 127\u001B[0;31m         tpn_score = self._get_proportionality_value(observation=observation,\n\u001B[0m\u001B[1;32m    128\u001B[0m                                                     masks_ratios=masks_ratios)\n\u001B[1;32m    129\u001B[0m         \u001B[0;32mreturn\u001B[0m \u001B[0mtpn_score\u001B[0m\u001B[0;34m\u001B[0m\u001B[0;34m\u001B[0m\u001B[0m\n",
      "\u001B[0;32m~/PycharmProjects/best-attributions/evaluators.py\u001B[0m in \u001B[0;36m_get_proportionality_value\u001B[0;34m(self, observation, masks_ratios)\u001B[0m\n\u001B[1;32m    104\u001B[0m                 \u001B[0mzip\u001B[0m\u001B[0;34m(\u001B[0m\u001B[0mmasks\u001B[0m\u001B[0;34m,\u001B[0m \u001B[0mratios\u001B[0m\u001B[0;34m)\u001B[0m\u001B[0;34m,\u001B[0m \u001B[0mzip\u001B[0m\u001B[0;34m(\u001B[0m\u001B[0mmasks\u001B[0m\u001B[0;34m[\u001B[0m\u001B[0;34m:\u001B[0m\u001B[0;34m:\u001B[0m\u001B[0;34m-\u001B[0m\u001B[0;36m1\u001B[0m\u001B[0;34m]\u001B[0m\u001B[0;34m,\u001B[0m \u001B[0mratios\u001B[0m\u001B[0;34m[\u001B[0m\u001B[0;34m:\u001B[0m\u001B[0;34m:\u001B[0m\u001B[0;34m-\u001B[0m\u001B[0;36m1\u001B[0m\u001B[0;34m]\u001B[0m\u001B[0;34m)\u001B[0m\u001B[0;34m\u001B[0m\u001B[0;34m\u001B[0m\u001B[0m\n\u001B[1;32m    105\u001B[0m         ):\n\u001B[0;32m--> 106\u001B[0;31m             ablated_prediction_normal = self._ablate_and_predict(mask_normal, observation,\n\u001B[0m\u001B[1;32m    107\u001B[0m                                                                  predicted_class)\n\u001B[1;32m    108\u001B[0m             ablated_prediction_reverse = self._ablate_and_predict(mask_reverse, observation,\n",
      "\u001B[0;32m~/PycharmProjects/best-attributions/evaluators.py\u001B[0m in \u001B[0;36m_ablate_and_predict\u001B[0;34m(self, mask, observation, predicted_class)\u001B[0m\n\u001B[1;32m     71\u001B[0m                             predicted_class: NDArray[int]) -> float:\n\u001B[1;32m     72\u001B[0m         \u001B[0mablated_observation\u001B[0m \u001B[0;34m=\u001B[0m \u001B[0mself\u001B[0m\u001B[0;34m.\u001B[0m\u001B[0mbaseline_factory\u001B[0m\u001B[0;34m.\u001B[0m\u001B[0mapply\u001B[0m\u001B[0;34m(\u001B[0m\u001B[0mobservation\u001B[0m\u001B[0;34m=\u001B[0m\u001B[0mobservation\u001B[0m\u001B[0;34m,\u001B[0m \u001B[0mmask\u001B[0m\u001B[0;34m=\u001B[0m\u001B[0mmask\u001B[0m\u001B[0;34m)\u001B[0m\u001B[0;34m\u001B[0m\u001B[0;34m\u001B[0m\u001B[0m\n\u001B[0;32m---> 73\u001B[0;31m         \u001B[0;32mreturn\u001B[0m \u001B[0mself\u001B[0m\u001B[0;34m.\u001B[0m\u001B[0mmodel\u001B[0m\u001B[0;34m(\u001B[0m\u001B[0mablated_observation\u001B[0m\u001B[0;34m)\u001B[0m\u001B[0;34m[\u001B[0m\u001B[0mpredicted_class\u001B[0m\u001B[0;34m]\u001B[0m\u001B[0;34m\u001B[0m\u001B[0;34m\u001B[0m\u001B[0m\n\u001B[0m\u001B[1;32m     74\u001B[0m \u001B[0;34m\u001B[0m\u001B[0m\n\u001B[1;32m     75\u001B[0m     def _get_proportionality_value(\n",
      "\u001B[0;32m~/PycharmProjects/best-attributions/helpers.py\u001B[0m in \u001B[0;36m<lambda>\u001B[0;34m(x)\u001B[0m\n\u001B[1;32m     45\u001B[0m         \"models/distilbert-base-uncased-imdb/model-optimized-quantized.onnx\")\n\u001B[1;32m     46\u001B[0m     \u001B[0;32mif\u001B[0m \u001B[0mreturn_softmax\u001B[0m\u001B[0;34m:\u001B[0m\u001B[0;34m\u001B[0m\u001B[0;34m\u001B[0m\u001B[0m\n\u001B[0;32m---> 47\u001B[0;31m         return lambda x: softmax(ort_session.run([\"output_0\"],\n\u001B[0m\u001B[1;32m     48\u001B[0m                                                  dict(input_ids=x[None],\n\u001B[1;32m     49\u001B[0m                                                       attention_mask=np.ones_like(x[None])))[0][0],\n",
      "\u001B[0;32m~/.cache/pypoetry/virtualenvs/best-attributions-KSHz0FDa-py3.9/lib/python3.9/site-packages/onnxruntime/capi/onnxruntime_inference_collection.py\u001B[0m in \u001B[0;36mrun\u001B[0;34m(self, output_names, input_feed, run_options)\u001B[0m\n\u001B[1;32m    186\u001B[0m             \u001B[0moutput_names\u001B[0m \u001B[0;34m=\u001B[0m \u001B[0;34m[\u001B[0m\u001B[0moutput\u001B[0m\u001B[0;34m.\u001B[0m\u001B[0mname\u001B[0m \u001B[0;32mfor\u001B[0m \u001B[0moutput\u001B[0m \u001B[0;32min\u001B[0m \u001B[0mself\u001B[0m\u001B[0;34m.\u001B[0m\u001B[0m_outputs_meta\u001B[0m\u001B[0;34m]\u001B[0m\u001B[0;34m\u001B[0m\u001B[0;34m\u001B[0m\u001B[0m\n\u001B[1;32m    187\u001B[0m         \u001B[0;32mtry\u001B[0m\u001B[0;34m:\u001B[0m\u001B[0;34m\u001B[0m\u001B[0;34m\u001B[0m\u001B[0m\n\u001B[0;32m--> 188\u001B[0;31m             \u001B[0;32mreturn\u001B[0m \u001B[0mself\u001B[0m\u001B[0;34m.\u001B[0m\u001B[0m_sess\u001B[0m\u001B[0;34m.\u001B[0m\u001B[0mrun\u001B[0m\u001B[0;34m(\u001B[0m\u001B[0moutput_names\u001B[0m\u001B[0;34m,\u001B[0m \u001B[0minput_feed\u001B[0m\u001B[0;34m,\u001B[0m \u001B[0mrun_options\u001B[0m\u001B[0;34m)\u001B[0m\u001B[0;34m\u001B[0m\u001B[0;34m\u001B[0m\u001B[0m\n\u001B[0m\u001B[1;32m    189\u001B[0m         \u001B[0;32mexcept\u001B[0m \u001B[0mC\u001B[0m\u001B[0;34m.\u001B[0m\u001B[0mEPFail\u001B[0m \u001B[0;32mas\u001B[0m \u001B[0merr\u001B[0m\u001B[0;34m:\u001B[0m\u001B[0;34m\u001B[0m\u001B[0;34m\u001B[0m\u001B[0m\n\u001B[1;32m    190\u001B[0m             \u001B[0;32mif\u001B[0m \u001B[0mself\u001B[0m\u001B[0;34m.\u001B[0m\u001B[0m_enable_fallback\u001B[0m\u001B[0;34m:\u001B[0m\u001B[0;34m\u001B[0m\u001B[0;34m\u001B[0m\u001B[0m\n",
      "\u001B[0;31mKeyboardInterrupt\u001B[0m: "
     ]
    }
   ],
   "source": [
    "iterations = 200\n",
    "random_idx = 42\n",
    "observation = observations[random_idx]\n",
    "\n",
    "hc_tpn_results, hc_tps_results = [], []\n",
    "for _ in range(iterations):\n",
    "    hc_tps_result,_,_ = hill_climber_tpn.get_attribution_values(observation=observation)\n",
    "    hc_tpn_result,_,_ = hill_climber_tpn.get_attribution_values(observation=observation)\n",
    "    hc_tpn_results.append(hc_tpn_results)\n",
    "    hc_tps_results.append(hc_tps_result)"
   ],
   "metadata": {
    "collapsed": false,
    "pycharm": {
     "name": "#%%\n"
    }
   }
  },
  {
   "cell_type": "code",
   "execution_count": null,
   "outputs": [],
   "source": [
    "with open(\"../data/tpn_hillclimber_one_sample.json\",\"w\") as fp:\n",
    "    json.dump(dict(tpn_results=hc_tpn_results, random_tps_results=hc_tps_results), fp)"
   ],
   "metadata": {
    "collapsed": false,
    "pycharm": {
     "name": "#%%\n"
    }
   }
  },
  {
   "cell_type": "code",
   "execution_count": null,
   "outputs": [
    {
     "name": "stdout",
     "output_type": "stream",
     "text": [
      ">0 = 0.02065\n",
      ">1 = 0.01795\n",
      ">6 = 0.01014\n",
      ">9 = 0.00933\n",
      ">13 = 0.00660\n",
      ">19 = 0.00517\n",
      ">21 = 0.00446\n",
      ">42 = 0.00357\n",
      ">44 = 0.00176\n",
      ">0 = 0.01924\n",
      ">3 = 0.00657\n",
      ">8 = 0.00598\n",
      ">21 = 0.00564\n"
     ]
    }
   ],
   "source": [
    "iterations = 2\n",
    "random_idx = 42\n",
    "observation = observations[random_idx]\n",
    "\n",
    "hc_tpn_results, hc_tps_results = [], []\n",
    "for _ in range(iterations):\n",
    "    hc_tps_result,_,_ = hill_climber_tps.get_attribution_values(observation=observation)\n",
    "    hc_tpn_result,_,_ = hill_climber_tps.get_attribution_values(observation=observation)\n",
    "    hc_tpn_results.append(hc_tpn_results)\n",
    "    hc_tps_results.append(hc_tps_result)"
   ],
   "metadata": {
    "collapsed": false,
    "pycharm": {
     "name": "#%%\n",
     "is_executing": true
    }
   }
  },
  {
   "cell_type": "code",
   "execution_count": null,
   "outputs": [],
   "source": [
    "with open(\"../data/tps_hillclimber_one_sample.json\",\"w\") as fp:\n",
    "    json.dump(dict(tpn_results=hc_tpn_results, random_tps_results=hc_tps_results), fp)"
   ],
   "metadata": {
    "collapsed": false,
    "pycharm": {
     "name": "#%%\n",
     "is_executing": true
    }
   }
  },
  {
   "cell_type": "code",
   "execution_count": null,
   "outputs": [],
   "source": [],
   "metadata": {
    "collapsed": false,
    "pycharm": {
     "name": "#%%\n"
    }
   }
  }
 ],
 "metadata": {
  "kernelspec": {
   "display_name": "Python 3",
   "language": "python",
   "name": "python3"
  },
  "language_info": {
   "codemirror_mode": {
    "name": "ipython",
    "version": 2
   },
   "file_extension": ".py",
   "mimetype": "text/x-python",
   "name": "python",
   "nbconvert_exporter": "python",
   "pygments_lexer": "ipython2",
   "version": "2.7.6"
  }
 },
 "nbformat": 4,
 "nbformat_minor": 0
}