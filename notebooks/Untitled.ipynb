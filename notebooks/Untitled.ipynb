{
 "cells": [
  {
   "cell_type": "code",
   "execution_count": 1,
   "id": "05505b73",
   "metadata": {},
   "outputs": [],
   "source": [
    "import sys\n",
    "from pathlib import Path\n",
    "sys.path.append(str(Path.cwd().parent))\n",
    "\n",
    "from helpers import load_distilbert\n",
    "import json\n",
    "from sacred import Experiment\n",
    "from sacred.observers import MongoObserver, FileStorageObserver\n",
    "\n",
    "import numpy as np\n",
    "from baselines import ZeroBaselineFactory\n",
    "from evaluators import ProportionalityEvaluator\n",
    "from helpers import load_albert_v2, load_imdb_albert_lig_data, extract_token_ids_and_attributions, load_distilbert\n",
    "from attribution_methods import RandomAttributionValues\n",
    "from tqdm import tqdm\n"
   ]
  },
  {
   "cell_type": "code",
   "execution_count": 2,
   "id": "87f7957a",
   "metadata": {},
   "outputs": [],
   "source": [
    "ex = Experiment('random_baseline', interactive=True)\n",
    "ex.observers.append([MongoObserver(), FileStorageObserver(\"../logs\")])\n",
    "\n",
    "def _log_scores(name: str, scores: []):\n",
    "    for score in sorted(scores):\n",
    "        ex.log_scalar(name, score)\n"
   ]
  },
  {
   "cell_type": "code",
   "execution_count": 11,
   "id": "18731dd6",
   "metadata": {},
   "outputs": [
    {
     "name": "stderr",
     "output_type": "stream",
     "text": [
      "Reusing dataset thermostat (/home/tim/.cache/huggingface/datasets/thermostat/imdb-albert-lig/1.0.1/0cbe93e1fbe5b8ed0217559442d8b49a80fd4c2787185f2d7940817c67d8707b)\n"
     ]
    },
    {
     "name": "stdout",
     "output_type": "stream",
     "text": [
      "Loading Thermostat configuration: imdb-albert-lig\n"
     ]
    }
   ],
   "source": [
    "data = load_imdb_albert_lig_data()\n",
    "model = load_distilbert()"
   ]
  },
  {
   "cell_type": "code",
   "execution_count": 12,
   "id": "7d41666f",
   "metadata": {},
   "outputs": [],
   "source": [
    "observations, lig_attributions = zip(*[extract_token_ids_and_attributions(d) for d in data[:2000]])\n",
    "del data\n",
    "\n",
    "evaluator = ProportionalityEvaluator(model=model, baseline_factory=ZeroBaselineFactory)\n"
   ]
  },
  {
   "cell_type": "code",
   "execution_count": 13,
   "id": "f9ae07f8",
   "metadata": {},
   "outputs": [
    {
     "name": "stderr",
     "output_type": "stream",
     "text": [
      "  0%|                                                           | 8/25000 [00:41<35:50:02,  5.16s/it]\n"
     ]
    },
    {
     "ename": "KeyboardInterrupt",
     "evalue": "",
     "output_type": "error",
     "traceback": [
      "\u001B[0;31m---------------------------------------------------------------------------\u001B[0m",
      "\u001B[0;31mKeyboardInterrupt\u001B[0m                         Traceback (most recent call last)",
      "\u001B[0;32m/tmp/ipykernel_31997/3655124914.py\u001B[0m in \u001B[0;36m<module>\u001B[0;34m\u001B[0m\n\u001B[1;32m      5\u001B[0m     \u001B[0mrandom_attribution\u001B[0m \u001B[0;34m=\u001B[0m \u001B[0mRandomAttributionValues\u001B[0m\u001B[0;34m.\u001B[0m\u001B[0mget_attribution_values\u001B[0m\u001B[0;34m(\u001B[0m\u001B[0mobservation\u001B[0m\u001B[0;34m=\u001B[0m\u001B[0mobservation\u001B[0m\u001B[0;34m)\u001B[0m\u001B[0;34m\u001B[0m\u001B[0;34m\u001B[0m\u001B[0m\n\u001B[1;32m      6\u001B[0m     tpn_results.append((\n\u001B[0;32m----> 7\u001B[0;31m         \u001B[0mevaluator\u001B[0m\u001B[0;34m.\u001B[0m\u001B[0mcompute_tpn\u001B[0m\u001B[0;34m(\u001B[0m\u001B[0mobservation\u001B[0m\u001B[0;34m=\u001B[0m\u001B[0mobservation\u001B[0m\u001B[0;34m,\u001B[0m \u001B[0mattribution_values\u001B[0m\u001B[0;34m=\u001B[0m\u001B[0mlig_attribution\u001B[0m\u001B[0;34m)\u001B[0m\u001B[0;34m,\u001B[0m\u001B[0;34m\u001B[0m\u001B[0;34m\u001B[0m\u001B[0m\n\u001B[0m\u001B[1;32m      8\u001B[0m         evaluator.compute_tpn(observation=observation, attribution_values=random_attribution)))\n\u001B[1;32m      9\u001B[0m     tps_results.append((\n",
      "\u001B[0;32m~/PycharmProjects/best-attributions/evaluators.py\u001B[0m in \u001B[0;36mcompute_tpn\u001B[0;34m(self, observation, attribution_values, saliency_ratio_per_step)\u001B[0m\n\u001B[1;32m    125\u001B[0m                 \u001B[0mattribution_values\u001B[0m\u001B[0;34m=\u001B[0m\u001B[0mattribution_values\u001B[0m\u001B[0;34m,\u001B[0m\u001B[0;34m\u001B[0m\u001B[0;34m\u001B[0m\u001B[0m\n\u001B[1;32m    126\u001B[0m                 saliency_ratio_per_step=saliency_ratio_per_step))\n\u001B[0;32m--> 127\u001B[0;31m         tpn_score = self._get_proportionality_value(observation=observation,\n\u001B[0m\u001B[1;32m    128\u001B[0m                                                     masks_ratios=masks_ratios)\n\u001B[1;32m    129\u001B[0m         \u001B[0;32mreturn\u001B[0m \u001B[0mtpn_score\u001B[0m\u001B[0;34m\u001B[0m\u001B[0;34m\u001B[0m\u001B[0m\n",
      "\u001B[0;32m~/PycharmProjects/best-attributions/evaluators.py\u001B[0m in \u001B[0;36m_get_proportionality_value\u001B[0;34m(self, observation, masks_ratios)\u001B[0m\n\u001B[1;32m    106\u001B[0m             ablated_prediction_normal = self._ablate_and_predict(mask_normal, observation,\n\u001B[1;32m    107\u001B[0m                                                                  predicted_class)\n\u001B[0;32m--> 108\u001B[0;31m             ablated_prediction_reverse = self._ablate_and_predict(mask_reverse, observation,\n\u001B[0m\u001B[1;32m    109\u001B[0m                                                                   predicted_class)\n\u001B[1;32m    110\u001B[0m             \u001B[0mproportionality_value\u001B[0m \u001B[0;34m=\u001B[0m \u001B[0mabs\u001B[0m\u001B[0;34m(\u001B[0m\u001B[0mablated_prediction_normal\u001B[0m \u001B[0;34m-\u001B[0m \u001B[0mablated_prediction_reverse\u001B[0m\u001B[0;34m)\u001B[0m\u001B[0;34m\u001B[0m\u001B[0;34m\u001B[0m\u001B[0m\n",
      "\u001B[0;32m~/PycharmProjects/best-attributions/evaluators.py\u001B[0m in \u001B[0;36m_ablate_and_predict\u001B[0;34m(self, mask, observation, predicted_class)\u001B[0m\n\u001B[1;32m     71\u001B[0m                             predicted_class: NDArray[int]) -> float:\n\u001B[1;32m     72\u001B[0m         \u001B[0mablated_observation\u001B[0m \u001B[0;34m=\u001B[0m \u001B[0mself\u001B[0m\u001B[0;34m.\u001B[0m\u001B[0mbaseline_factory\u001B[0m\u001B[0;34m.\u001B[0m\u001B[0mapply\u001B[0m\u001B[0;34m(\u001B[0m\u001B[0mobservation\u001B[0m\u001B[0;34m=\u001B[0m\u001B[0mobservation\u001B[0m\u001B[0;34m,\u001B[0m \u001B[0mmask\u001B[0m\u001B[0;34m=\u001B[0m\u001B[0mmask\u001B[0m\u001B[0;34m)\u001B[0m\u001B[0;34m\u001B[0m\u001B[0;34m\u001B[0m\u001B[0m\n\u001B[0;32m---> 73\u001B[0;31m         \u001B[0;32mreturn\u001B[0m \u001B[0mself\u001B[0m\u001B[0;34m.\u001B[0m\u001B[0mmodel\u001B[0m\u001B[0;34m(\u001B[0m\u001B[0mablated_observation\u001B[0m\u001B[0;34m)\u001B[0m\u001B[0;34m[\u001B[0m\u001B[0mpredicted_class\u001B[0m\u001B[0;34m]\u001B[0m\u001B[0;34m\u001B[0m\u001B[0;34m\u001B[0m\u001B[0m\n\u001B[0m\u001B[1;32m     74\u001B[0m \u001B[0;34m\u001B[0m\u001B[0m\n\u001B[1;32m     75\u001B[0m     def _get_proportionality_value(\n",
      "\u001B[0;32m~/PycharmProjects/best-attributions/helpers.py\u001B[0m in \u001B[0;36m<lambda>\u001B[0;34m(x)\u001B[0m\n\u001B[1;32m     49\u001B[0m                                  axis=-1)\n\u001B[1;32m     50\u001B[0m     \u001B[0;32melse\u001B[0m\u001B[0;34m:\u001B[0m\u001B[0;34m\u001B[0m\u001B[0;34m\u001B[0m\u001B[0m\n\u001B[0;32m---> 51\u001B[0;31m         return lambda x: ort_session.run([\"output_0\"],\n\u001B[0m\u001B[1;32m     52\u001B[0m                                          dict(input_ids=x[None],\n\u001B[1;32m     53\u001B[0m                                               attention_mask=np.ones_like(x[None])))[0][0]\n",
      "\u001B[0;32m~/.cache/pypoetry/virtualenvs/best-attributions-KSHz0FDa-py3.9/lib/python3.9/site-packages/onnxruntime/capi/onnxruntime_inference_collection.py\u001B[0m in \u001B[0;36mrun\u001B[0;34m(self, output_names, input_feed, run_options)\u001B[0m\n\u001B[1;32m    186\u001B[0m             \u001B[0moutput_names\u001B[0m \u001B[0;34m=\u001B[0m \u001B[0;34m[\u001B[0m\u001B[0moutput\u001B[0m\u001B[0;34m.\u001B[0m\u001B[0mname\u001B[0m \u001B[0;32mfor\u001B[0m \u001B[0moutput\u001B[0m \u001B[0;32min\u001B[0m \u001B[0mself\u001B[0m\u001B[0;34m.\u001B[0m\u001B[0m_outputs_meta\u001B[0m\u001B[0;34m]\u001B[0m\u001B[0;34m\u001B[0m\u001B[0;34m\u001B[0m\u001B[0m\n\u001B[1;32m    187\u001B[0m         \u001B[0;32mtry\u001B[0m\u001B[0;34m:\u001B[0m\u001B[0;34m\u001B[0m\u001B[0;34m\u001B[0m\u001B[0m\n\u001B[0;32m--> 188\u001B[0;31m             \u001B[0;32mreturn\u001B[0m \u001B[0mself\u001B[0m\u001B[0;34m.\u001B[0m\u001B[0m_sess\u001B[0m\u001B[0;34m.\u001B[0m\u001B[0mrun\u001B[0m\u001B[0;34m(\u001B[0m\u001B[0moutput_names\u001B[0m\u001B[0;34m,\u001B[0m \u001B[0minput_feed\u001B[0m\u001B[0;34m,\u001B[0m \u001B[0mrun_options\u001B[0m\u001B[0;34m)\u001B[0m\u001B[0;34m\u001B[0m\u001B[0;34m\u001B[0m\u001B[0m\n\u001B[0m\u001B[1;32m    189\u001B[0m         \u001B[0;32mexcept\u001B[0m \u001B[0mC\u001B[0m\u001B[0;34m.\u001B[0m\u001B[0mEPFail\u001B[0m \u001B[0;32mas\u001B[0m \u001B[0merr\u001B[0m\u001B[0;34m:\u001B[0m\u001B[0;34m\u001B[0m\u001B[0;34m\u001B[0m\u001B[0m\n\u001B[1;32m    190\u001B[0m             \u001B[0;32mif\u001B[0m \u001B[0mself\u001B[0m\u001B[0;34m.\u001B[0m\u001B[0m_enable_fallback\u001B[0m\u001B[0;34m:\u001B[0m\u001B[0;34m\u001B[0m\u001B[0;34m\u001B[0m\u001B[0m\n",
      "\u001B[0;31mKeyboardInterrupt\u001B[0m: "
     ]
    }
   ],
   "source": [
    "tpn_results, tps_results = [], []\n",
    "for i in tqdm(range(len(observations))):\n",
    "    observation = observations[i]\n",
    "    lig_attribution = lig_attributions[i]\n",
    "    random_attribution = RandomAttributionValues.get_attribution_values(observation=observation)\n",
    "    tpn_results.append((\n",
    "        evaluator.compute_tpn(observation=observation, attribution_values=lig_attribution),\n",
    "        evaluator.compute_tpn(observation=observation, attribution_values=random_attribution)))\n",
    "    tps_results.append((\n",
    "        evaluator.compute_tps(observation=observation, attribution_values=lig_attribution),\n",
    "        evaluator.compute_tps(observation=observation, attribution_values=random_attribution)))  \n"
   ]
  },
  {
   "cell_type": "code",
   "execution_count": null,
   "id": "3bd6fca3",
   "metadata": {},
   "outputs": [],
   "source": [
    "with open(\"../data/random_all_samples.json\",\"w\") as fp:\n",
    "    json.dump(dict(tpn_results=tpn_results, tps_results=tps_results), fp)"
   ]
  },
  {
   "cell_type": "code",
   "execution_count": null,
   "id": "c2f2d669",
   "metadata": {},
   "outputs": [],
   "source": [
    "iterations = 1000\n",
    "random_idx = 42\n",
    "observation, attribution_values = observations[random_idx], lig_attributions[random_idx]\n",
    "lig_tpn = evaluator.compute_tpn(observation=observation, attribution_values=attribution_values)\n",
    "lig_tps = evaluator.compute_tps(observation=observation, attribution_values=attribution_values)\n",
    "random_attributions = [RandomAttributionValues.get_attribution_values(observation) for _ in range(iterations)]\n",
    "random_tpn_results, random_tps_results = [], []\n",
    "for attribution in tqdm(random_attributions):\n",
    "    random_tpn_results.append(evaluator.compute_tpn(observation=observation, attribution_values=attribution))\n",
    "    random_tps_results.append(evaluator.compute_tps(observation=observation, attribution_values=attribution))  \n"
   ]
  },
  {
   "cell_type": "code",
   "execution_count": null,
   "id": "528d08c0",
   "metadata": {},
   "outputs": [],
   "source": [
    "with open(\"../data/random_one_sample.json\",\"w\") as fp:\n",
    "    json.dump(dict(random_tpn_results=random_tpn_results, random_tps_results=random_tps_results), fp)"
   ]
  },
  {
   "cell_type": "code",
   "execution_count": null,
   "id": "f9c72233",
   "metadata": {},
   "outputs": [],
   "source": []
  }
 ],
 "metadata": {
  "kernelspec": {
   "display_name": "Python 3 (ipykernel)",
   "language": "python",
   "name": "python3"
  },
  "language_info": {
   "codemirror_mode": {
    "name": "ipython",
    "version": 3
   },
   "file_extension": ".py",
   "mimetype": "text/x-python",
   "name": "python",
   "nbconvert_exporter": "python",
   "pygments_lexer": "ipython3",
   "version": "3.9.7"
  }
 },
 "nbformat": 4,
 "nbformat_minor": 5
}