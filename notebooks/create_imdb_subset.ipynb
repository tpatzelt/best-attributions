{
 "cells": [
  {
   "cell_type": "code",
   "execution_count": 1,
   "id": "2142badd",
   "metadata": {},
   "outputs": [],
   "source": [
    "import captum\n",
    "import torch\n",
    "import numpy as np\n",
    "from transformers import AutoTokenizer, AutoModelForSequenceClassification\n",
    "from captum.attr import IntegratedGradients, FeatureAblation\n",
    "import onnxruntime as ort\n",
    "from tqdm import tqdm\n",
    "\n",
    "import json"
   ]
  },
  {
   "cell_type": "code",
   "execution_count": 2,
   "id": "6a1742c1",
   "metadata": {},
   "outputs": [
    {
     "ename": "ImportError",
     "evalue": "cannot import name 'load_dataset' from 'datasets' (/home/tim/PycharmProjects/best-attributions/datasets.py)",
     "output_type": "error",
     "traceback": [
      "\u001B[0;31m---------------------------------------------------------------------------\u001B[0m",
      "\u001B[0;31mImportError\u001B[0m                               Traceback (most recent call last)",
      "\u001B[0;32m/tmp/ipykernel_74805/249986982.py\u001B[0m in \u001B[0;36m<module>\u001B[0;34m\u001B[0m\n\u001B[0;32m----> 1\u001B[0;31m \u001B[0;32mfrom\u001B[0m \u001B[0mdatasets\u001B[0m \u001B[0;32mimport\u001B[0m \u001B[0mload_dataset\u001B[0m\u001B[0;34m\u001B[0m\u001B[0;34m\u001B[0m\u001B[0m\n\u001B[0m\u001B[1;32m      2\u001B[0m \u001B[0mnum_samples\u001B[0m \u001B[0;34m=\u001B[0m \u001B[0;36m1000\u001B[0m\u001B[0;34m\u001B[0m\u001B[0;34m\u001B[0m\u001B[0m\n\u001B[1;32m      3\u001B[0m \u001B[0mdataset\u001B[0m \u001B[0;34m=\u001B[0m \u001B[0mload_dataset\u001B[0m\u001B[0;34m(\u001B[0m\u001B[0;34m'imdb'\u001B[0m\u001B[0;34m,\u001B[0m \u001B[0mignore_verifications\u001B[0m\u001B[0;34m=\u001B[0m\u001B[0;32mTrue\u001B[0m\u001B[0;34m)\u001B[0m\u001B[0;34m\u001B[0m\u001B[0;34m\u001B[0m\u001B[0m\n\u001B[1;32m      4\u001B[0m \u001B[0;34m\u001B[0m\u001B[0m\n",
      "\u001B[0;31mImportError\u001B[0m: cannot import name 'load_dataset' from 'datasets' (/home/tim/PycharmProjects/best-attributions/datasets.py)"
     ]
    }
   ],
   "source": [
    "from datasets import load_dataset\n",
    "num_samples = 1000\n",
    "dataset = load_dataset('imdb', ignore_verifications=True)\n"
   ]
  },
  {
   "cell_type": "code",
   "execution_count": 17,
   "id": "4c6eff28",
   "metadata": {},
   "outputs": [],
   "source": [
    "ds_sorted = sorted([dict(idx=i)|x for i,x in enumerate(dataset[\"test\"])], key=lambda x: len(x[\"text\"]))"
   ]
  },
  {
   "cell_type": "code",
   "execution_count": 18,
   "id": "e98d610e",
   "metadata": {},
   "outputs": [
    {
     "data": {
      "text/plain": "{'idx': 17327,\n 'text': 'Don\\'t waste your time and money on it. It\\'s not quite as bad as \"Adrenalin\", by the same director but that\\'s not saying much.',\n 'label': 0}"
     },
     "execution_count": 18,
     "metadata": {},
     "output_type": "execute_result"
    }
   ],
   "source": [
    "ds_sorted[20]"
   ]
  },
  {
   "cell_type": "markdown",
   "id": "b6a6eb30",
   "metadata": {},
   "source": [
    "keys should be {text, input_ids, tokens, attributions, idx)"
   ]
  },
  {
   "cell_type": "code",
   "execution_count": 20,
   "outputs": [
    {
     "name": "stdout",
     "output_type": "stream",
     "text": [
      "<_io.TextIOWrapper name='../data/imdb-1000.json' mode='w' encoding='UTF-8'>\n"
     ]
    }
   ],
   "source": [
    "with open(\"../data/imdb-1000.json\", \"w\") as fp:\n",
    "    json.dump(ds_sorted, fp)"
   ],
   "metadata": {
    "collapsed": false,
    "pycharm": {
     "name": "#%%\n"
    }
   }
  },
  {
   "cell_type": "code",
   "execution_count": 24,
   "id": "edc3f61d",
   "metadata": {},
   "outputs": [],
   "source": [
    "tokenizer = AutoTokenizer.from_pretrained(\"textattack/distilbert-base-uncased-imdb\")"
   ]
  },
  {
   "cell_type": "code",
   "execution_count": 26,
   "id": "f085dadf",
   "metadata": {},
   "outputs": [
    {
     "name": "stderr",
     "output_type": "stream",
     "text": [
      "100%|██████████| 1000/1000 [00:00<00:00, 2226.71it/s]\n"
     ]
    }
   ],
   "source": [
    "samples = []\n",
    "for data in tqdm(ds_sorted[:1000]):\n",
    "    input1 = tokenizer(data[\"text\"])\n",
    "    input_ids = torch.tensor([input1[\"input_ids\"]]).long()\n",
    "    attention_mask = torch.tensor([input1[\"attention_mask\"]]).long()\n",
    "\n",
    "    tokenized = tokenizer(data[\"text\"])\n",
    "    data[\"input_ids\"] = tokenized[\"input_ids\"]\n",
    "    data[\"attention_mask\"] = tokenized[\"attention_mask\"]\n",
    "    data[\"tokens\"] = tokenizer.convert_ids_to_tokens(tokenized[\"input_ids\"])\n",
    "    \n",
    "    samples.append(data)"
   ]
  },
  {
   "cell_type": "code",
   "execution_count": 27,
   "id": "d1999a22",
   "metadata": {},
   "outputs": [
    {
     "name": "stdout",
     "output_type": "stream",
     "text": [
      "<_io.TextIOWrapper name='../data/imdb-distilbert-1000.json' mode='w' encoding='UTF-8'>\n"
     ]
    }
   ],
   "source": [
    "with open(\"../data/imdb-distilbert-1000.json\", \"w\") as fp:\n",
    "    json.dump(samples, fp)"
   ]
  },
  {
   "cell_type": "code",
   "execution_count": null,
   "id": "b2b20fd6",
   "metadata": {},
   "outputs": [],
   "source": []
  }
 ],
 "metadata": {
  "kernelspec": {
   "display_name": "Python 3 (ipykernel)",
   "language": "python",
   "name": "python3"
  },
  "language_info": {
   "codemirror_mode": {
    "name": "ipython",
    "version": 3
   },
   "file_extension": ".py",
   "mimetype": "text/x-python",
   "name": "python",
   "nbconvert_exporter": "python",
   "pygments_lexer": "ipython3",
   "version": "3.9.7"
  }
 },
 "nbformat": 4,
 "nbformat_minor": 5
}