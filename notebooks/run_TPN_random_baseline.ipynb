{
 "cells": [
  {
   "cell_type": "code",
   "execution_count": 1,
   "id": "dc40e76a",
   "metadata": {},
   "outputs": [],
   "source": [
    "import numpy as np\n",
    "from baselines import ZeroBaselineFactory\n",
    "from evaluators import ProportionalityEvaluator\n",
    "from helpers import load_albert_v2, load_imdb_albert_lig_data, extract_token_ids_and_attributions, wrap_call_with_numpy\n",
    "from attribution_methods import RandomAttributionValues\n",
    "import wandb\n",
    "from tqdm import tqdm"
   ]
  },
  {
   "cell_type": "code",
   "execution_count": 2,
   "id": "9c189387",
   "metadata": {
    "scrolled": true
   },
   "outputs": [
    {
     "name": "stderr",
     "output_type": "stream",
     "text": [
      "\u001b[34m\u001b[1mwandb\u001b[0m: Currently logged in as: \u001b[33mtpatzelt\u001b[0m (use `wandb login --relogin` to force relogin)\n"
     ]
    },
    {
     "data": {
      "text/html": [
       "\n",
       "                    Syncing run <strong><a href=\"https://wandb.ai/tpatzelt/my-test-project/runs/fp9qwf2x\" target=\"_blank\">super-waterfall-2</a></strong> to <a href=\"https://wandb.ai/tpatzelt/my-test-project\" target=\"_blank\">Weights & Biases</a> (<a href=\"https://docs.wandb.com/integrations/jupyter.html\" target=\"_blank\">docs</a>).<br/>\n",
       "\n",
       "                "
      ],
      "text/plain": [
       "<IPython.core.display.HTML object>"
      ]
     },
     "metadata": {},
     "output_type": "display_data"
    },
    {
     "data": {
      "text/html": [
       "<button onClick=\"this.nextSibling.style.display='block';this.style.display='none';\">Display W&B run</button><iframe src=\"https://wandb.ai/tpatzelt/my-test-project/runs/fp9qwf2x?jupyter=true\" style=\"border:none;width:100%;height:420px;display:none;\"></iframe>"
      ],
      "text/plain": [
       "<wandb.sdk.wandb_run.Run at 0x7f47307f3b20>"
      ]
     },
     "execution_count": 2,
     "metadata": {},
     "output_type": "execute_result"
    }
   ],
   "source": [
    "wandb.init(project=\"my-test-project\", entity=\"tpatzelt\")"
   ]
  },
  {
   "cell_type": "code",
   "execution_count": 3,
   "id": "4ab37e5a",
   "metadata": {},
   "outputs": [
    {
     "name": "stderr",
     "output_type": "stream",
     "text": [
      "Reusing dataset thermostat (/home/tim/.cache/huggingface/datasets/thermostat/imdb-albert-lig/1.0.1/0cbe93e1fbe5b8ed0217559442d8b49a80fd4c2787185f2d7940817c67d8707b)\n"
     ]
    },
    {
     "name": "stdout",
     "output_type": "stream",
     "text": [
      "Loading Thermostat configuration: imdb-albert-lig\n"
     ]
    }
   ],
   "source": [
    "data = load_imdb_albert_lig_data()\n",
    "model = load_albert_v2()\n",
    "callable_model = wrap_call_with_numpy(model)\n",
    "\n",
    "observation, attribution_values = extract_token_ids_and_attributions(data[0])"
   ]
  },
  {
   "cell_type": "code",
   "execution_count": 4,
   "id": "32ee01e7",
   "metadata": {},
   "outputs": [],
   "source": [
    "evaluator = ProportionalityEvaluator(model=callable_model, baseline_factory=ZeroBaselineFactory)"
   ]
  },
  {
   "cell_type": "code",
   "execution_count": 5,
   "id": "82a356ea",
   "metadata": {},
   "outputs": [
    {
     "name": "stdout",
     "output_type": "stream",
     "text": [
      "tpn_lig = 0.000103822297676191\n",
      "tps_lig = 0.00021412324486238981\n"
     ]
    }
   ],
   "source": [
    "tpn_lig = evaluator.compute_tpn(observation=observation, attribution_values=attribution_values)\n",
    "tps_lig = evaluator.compute_tps(observation=observation, attribution_values=attribution_values)\n",
    "print(f\"{tpn_lig = }\")\n",
    "print(f\"{tps_lig = }\")"
   ]
  },
  {
   "cell_type": "code",
   "execution_count": 6,
   "id": "d5041500",
   "metadata": {},
   "outputs": [
    {
     "name": "stderr",
     "output_type": "stream",
     "text": [
      "100%|██████████████████████████████████████████████████████████████████████████████████████████████████████████████████████████████████████████████████████████████████████████████████████████████████████| 1/1 [00:13<00:00, 13.28s/it]\n"
     ]
    }
   ],
   "source": [
    "tpn_results, tps_results = [], []\n",
    "for i in tqdm(range(1)):\n",
    "    random_attribution_values = RandomAttributionValues.get_attribution_values(observation=observation)\n",
    "    tpn = evaluator.compute_tpn(observation=observation, attribution_values=random_attribution_values)\n",
    "    tps = evaluator.compute_tps(observation=observation, attribution_values=random_attribution_values)\n",
    "    tpn_results.append(tpn)\n",
    "    tps_results.append(tps)\n",
    "\n"
   ]
  },
  {
   "cell_type": "code",
   "execution_count": 7,
   "id": "149b697c",
   "metadata": {},
   "outputs": [
    {
     "name": "stdout",
     "output_type": "stream",
     "text": [
      "0.0002525460910162743\n",
      "0.0004933038715275941\n"
     ]
    }
   ],
   "source": [
    "print(np.mean(tpn_results))\n",
    "print(np.mean(tps_results))"
   ]
  },
  {
   "cell_type": "code",
   "execution_count": 10,
   "id": "43c05349",
   "metadata": {},
   "outputs": [
    {
     "name": "stderr",
     "output_type": "stream",
     "text": [
      "wandb: Network error (ConnectionError), entering retry loop.\n"
     ]
    }
   ],
   "source": [
    "data = [[x, y] for (x, y) in zip([1,2,3], [1,2,4])]\n",
    "table = wandb.Table(data=data, columns = [\"x\", \"y\"])\n",
    "wandb.log({\"my_custom_plot_id\" : wandb.plot.line(table, \"x\", \"y\",\n",
    "           title=\"Custom Y vs X Line Plot\")})"
   ]
  },
  {
   "cell_type": "code",
   "execution_count": null,
   "id": "f556fa9e",
   "metadata": {},
   "outputs": [],
   "source": []
  }
 ],
 "metadata": {
  "kernelspec": {
   "display_name": "Python 3 (ipykernel)",
   "language": "python",
   "name": "python3"
  },
  "language_info": {
   "codemirror_mode": {
    "name": "ipython",
    "version": 3
   },
   "file_extension": ".py",
   "mimetype": "text/x-python",
   "name": "python",
   "nbconvert_exporter": "python",
   "pygments_lexer": "ipython3",
   "version": "3.9.5"
  }
 },
 "nbformat": 4,
 "nbformat_minor": 5
}
