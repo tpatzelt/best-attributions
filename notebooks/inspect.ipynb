{
 "cells": [
  {
   "cell_type": "code",
   "execution_count": 2,
   "metadata": {
    "collapsed": true
   },
   "outputs": [],
   "source": [
    "import json\n",
    "\n",
    "import matplotlib.pyplot as plt\n",
    "import numpy as np\n",
    "from prettytable import PrettyTable"
   ]
  },
  {
   "cell_type": "markdown",
   "source": [
    "### Load dataset and results from first experiments\n",
    "The dataset contains the index in the original imdb dataset, the text, the tokenized texts, the\n",
    "input ids and the label. It consists of 1000 observations.\n",
    "The results contain the index in the original imdb dataset, the attribution values of the\n",
    "attribution method on that observation and the TPN/TPS of these attributions.\n",
    "As Model Distilbert is used. Before saving, it was optimized and quantized for faster inference.\n",
    "For a performance comparison see notebooks/run_distilbert_full_vs_quantized.ipynb."
   ],
   "metadata": {
    "collapsed": false,
    "pycharm": {
     "name": "#%% md\n"
    }
   }
  },
  {
   "cell_type": "code",
   "execution_count": 83,
   "outputs": [
    {
     "data": {
      "text/plain": "[{'name': 'random-attribution-value1s',\n  'tpn': [0.1351929608829011, 0.14877296885220032],\n  'tps': [0.5030709809447801, 0.5135571730970353]},\n {'name': 'random-attribution-value1s',\n  'tpn': [0.1351929608829011, 0.14877296885220032],\n  'tps': [0.5030709809447801, 0.5135571730970353]},\n {'name': 'random-attribution-value1s',\n  'tpn': [0.1351929608829011, 0.14877296885220032],\n  'tps': [0.5030709809447801, 0.5135571730970353]}]"
     },
     "execution_count": 83,
     "metadata": {},
     "output_type": "execute_result"
    }
   ],
   "source": [
    "ex_ids = [1, 1,1]\n",
    "all_results = []\n",
    "for ex_id in ex_ids:\n",
    "    path = f\"./../logs/{ex_id}/\"\n",
    "    with open(path + \"metrics.json\") as fp:\n",
    "        results = json.load(fp)\n",
    "    with open(path + \"config.json\") as fp:\n",
    "        config = json.load(fp)\n",
    "    result_dict = {\n",
    "        \"name\": config[\"attribution_method\"][\"name\"],\n",
    "        \"tpn\": results[\"tpn\"][\"values\"],\n",
    "                \"tps\": results[\"tps\"][\"values\"]\n",
    "\n",
    "    }\n",
    "    all_results.append(result_dict)\n",
    "all_results"
   ],
   "metadata": {
    "collapsed": false,
    "pycharm": {
     "name": "#%%\n"
    }
   }
  },
  {
   "cell_type": "code",
   "execution_count": 94,
   "outputs": [
    {
     "name": "stdout",
     "output_type": "stream",
     "text": [
      "+----------------------------+-----------------------------+-----------------------------+-----------------------------+---------+\n",
      "|          Methods0          | random-attribution-value1s1 | random-attribution-value1s2 | random-attribution-value1s3 | #Nones4 |\n",
      "+----------------------------+-----------------------------+-----------------------------+-----------------------------+---------+\n",
      "| random-attribution-value1s |              0              |              0              |              0              |    0    |\n",
      "| random-attribution-value1s |              0              |              0              |              0              |    0    |\n",
      "| random-attribution-value1s |              0              |              0              |              0              |    0    |\n",
      "+----------------------------+-----------------------------+-----------------------------+-----------------------------+---------+\n",
      "+----------------------------+-----------------------------+-----------------------------+-----------------------------+---------+\n",
      "|          Methods0          | random-attribution-value1s1 | random-attribution-value1s2 | random-attribution-value1s3 | #Nones4 |\n",
      "+----------------------------+-----------------------------+-----------------------------+-----------------------------+---------+\n",
      "| random-attribution-value1s |              0              |              0              |              0              |    0    |\n",
      "| random-attribution-value1s |              0              |              0              |              0              |    0    |\n",
      "| random-attribution-value1s |              0              |              0              |              0              |    0    |\n",
      "+----------------------------+-----------------------------+-----------------------------+-----------------------------+---------+\n"
     ]
    }
   ],
   "source": [
    "names = [\"Methods\"] + [r[\"name\"] for r in all_results] + [\"#Nones\"]\n",
    "names = [name+str(i) for i,name in enumerate(names)]\n",
    "table_tpn = PrettyTable(names)\n",
    "table_tps = PrettyTable(names)\n",
    "\n",
    "\n",
    "for result in all_results:\n",
    "    row_name = result[\"name\"]\n",
    "    row_values_tpn = []\n",
    "    row_values_tps = []\n",
    "\n",
    "    nones_tpn, nones_tps = np.sum(np.array(result[\"tpn\"]) == None), np.sum(np.array(result[\"tps\"]) == None)\n",
    "    for result2 in all_results:\n",
    "        tpn1, tps1 = np.array(result[\"tpn\"]), np.array(result[\"tps\"])\n",
    "        tpn2, tps2 = np.array(result2[\"tpn\"]), np.array(result2[\"tps\"])\n",
    "        none_idx_tpn = np.logical_or(tpn1 == None,tpn2 == None)\n",
    "        none_idx_tps = np.logical_or(tps1 == None,tps2 == None)\n",
    "        row_values_tpn.append(np.sum(tpn1[np.invert(none_idx_tpn)] < (tpn2[np.invert(none_idx_tpn)])))\n",
    "        row_values_tps.append(np.sum(tps1[np.invert(none_idx_tps)] < (tps2[np.invert(none_idx_tps)])))\n",
    "\n",
    "    table_tpn.add_row([row_name,*row_values_tpn, nones_tpn ])\n",
    "    table_tps.add_row([row_name,*row_values_tps, nones_tps ])\n",
    "\n",
    "print(table_tpn)\n",
    "print(table_tps)"
   ],
   "metadata": {
    "collapsed": false,
    "pycharm": {
     "name": "#%%\n"
    }
   }
  },
  {
   "cell_type": "code",
   "execution_count": 95,
   "outputs": [
    {
     "data": {
      "text/plain": "[[0, 0, 0], [0, 0, 0], [0, 0, 0]]"
     },
     "execution_count": 95,
     "metadata": {},
     "output_type": "execute_result"
    }
   ],
   "source": [
    "labels_y, values = [], []\n",
    "for row in table_tpn.rows:\n",
    "    a,*b = row[:-1]\n",
    "    labels_y.append(a)\n",
    "    values.append(b)\n",
    "values"
   ],
   "metadata": {
    "collapsed": false,
    "pycharm": {
     "name": "#%%\n"
    }
   }
  },
  {
   "cell_type": "code",
   "execution_count": 96,
   "outputs": [
    {
     "data": {
      "text/plain": "<Figure size 432x288 with 2 Axes>",
      "image/png": "[encoded data removed]"
     },
     "metadata": {
      "needs_background": "light"
     },
     "output_type": "display_data"
    }
   ],
   "source": [
    "import seaborn as sns\n",
    "\n",
    "ax = sns.heatmap(values, annot=True, xticklabels=labels_y, yticklabels=labels_y)\n",
    "ax.set_xticklabels(ax.get_xticklabels(),rotation = 30)\n",
    "ax.xaxis.tick_top()\n"
   ],
   "metadata": {
    "collapsed": false,
    "pycharm": {
     "name": "#%%\n"
    }
   }
  }
 ],
 "metadata": {
  "kernelspec": {
   "display_name": "Python 3",
   "language": "python",
   "name": "python3"
  },
  "language_info": {
   "codemirror_mode": {
    "name": "ipython",
    "version": 2
   },
   "file_extension": ".py",
   "mimetype": "text/x-python",
   "name": "python",
   "nbconvert_exporter": "python",
   "pygments_lexer": "ipython2",
   "version": "2.7.6"
  }
 },
 "nbformat": 4,
 "nbformat_minor": 0
}