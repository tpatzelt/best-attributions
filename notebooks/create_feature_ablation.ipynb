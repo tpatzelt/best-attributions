{
 "cells": [
  {
   "cell_type": "code",
   "execution_count": 7,
   "id": "2142badd",
   "metadata": {},
   "outputs": [],
   "source": [
    "\n",
    "import json\n",
    "from typing import Callable\n",
    "from cfg import DATA_PATH\n",
    "import numpy as np\n",
    "import torch\n",
    "from captum.attr import KernelShap, Lime\n",
    "from tqdm import tqdm\n",
    "\n",
    "from attribution_methods import AttributionMethod\n",
    "from baselines import ZeroBaselineFactory\n",
    "from evaluators import ProportionalityEvaluator\n",
    "from experiment_runner import ExperimentRunner\n",
    "from models import load_distilbert"
   ]
  },
  {
   "cell_type": "code",
   "execution_count": 7,
   "outputs": [],
   "source": [],
   "metadata": {
    "collapsed": false,
    "pycharm": {
     "name": "#%%\n"
    }
   }
  },
  {
   "cell_type": "code",
   "execution_count": 8,
   "id": "6a1742c1",
   "metadata": {},
   "outputs": [],
   "source": [
    "with open(\"../data/imdb-distilbert-1000.json\", \"r\") as fp:\n",
    "    dataset = json.load(fp)"
   ]
  },
  {
   "cell_type": "code",
   "execution_count": 9,
   "outputs": [],
   "source": [
    "model = load_distilbert(from_notebook=1)\n",
    "evaluator = ProportionalityEvaluator(model=model, baseline_factory=ZeroBaselineFactory)"
   ],
   "metadata": {
    "collapsed": false,
    "pycharm": {
     "name": "#%%\n"
    }
   }
  },
  {
   "cell_type": "code",
   "execution_count": 3,
   "outputs": [],
   "source": [],
   "metadata": {
    "collapsed": false,
    "pycharm": {
     "name": "#%%\n"
    }
   }
  },
  {
   "cell_type": "code",
   "execution_count": 10,
   "outputs": [],
   "source": [
    "class KernelShapWrapper(AttributionMethod):\n",
    "\n",
    "    def __init__(self, model: Callable):\n",
    "        self.model = model\n",
    "        forward_func = lambda x: torch.tensor(model(x.squeeze().numpy())[None])\n",
    "        self.method = Lime(forward_func=forward_func)\n",
    "\n",
    "    def get_attribution_values(self, observation: np.array):\n",
    "        target_class = torch.tensor(np.argmax(self.model(observation)))\n",
    "        observation = torch.tensor(observation[None]).long()\n",
    "        attribution = self.method.attribute(observation, target=target_class)\n",
    "        return attribution[0].detach().numpy()\n",
    "\n",
    "\n",
    "method = KernelShapWrapper(model)"
   ],
   "metadata": {
    "collapsed": false,
    "pycharm": {
     "name": "#%%\n"
    }
   }
  },
  {
   "cell_type": "code",
   "execution_count": 11,
   "outputs": [
    {
     "name": "stderr",
     "output_type": "stream",
     "text": [
      "100%|██████████| 4/4 [00:01<00:00,  3.58it/s]\n"
     ]
    }
   ],
   "source": [
    "runner = ExperimentRunner(name=\"test-kernelshap\", num_samples=4, attribution_method=method, dataset=dataset, evaluator=evaluator, experiment=None,\n",
    "                          softmax_attributions=False)\n",
    "runner.run()"
   ],
   "metadata": {
    "collapsed": false,
    "pycharm": {
     "name": "#%%\n"
    }
   }
  },
  {
   "cell_type": "code",
   "execution_count": null,
   "outputs": [],
   "source": [],
   "metadata": {
    "collapsed": false,
    "pycharm": {
     "name": "#%%\n"
    }
   }
  },
  {
   "cell_type": "code",
   "execution_count": null,
   "outputs": [],
   "source": [],
   "metadata": {
    "collapsed": false,
    "pycharm": {
     "name": "#%%\n"
    }
   }
  }
 ],
 "metadata": {
  "kernelspec": {
   "display_name": "Python 3 (ipykernel)",
   "language": "python",
   "name": "python3"
  },
  "language_info": {
   "codemirror_mode": {
    "name": "ipython",
    "version": 3
   },
   "file_extension": ".py",
   "mimetype": "text/x-python",
   "name": "python",
   "nbconvert_exporter": "python",
   "pygments_lexer": "ipython3",
   "version": "3.9.7"
  }
 },
 "nbformat": 4,
 "nbformat_minor": 5
}