{
 "cells": [
  {
   "cell_type": "code",
   "execution_count": 1,
   "metadata": {
    "collapsed": true
   },
   "outputs": [],
   "source": [
    "import sys\n",
    "from pathlib import Path\n",
    "sys.path.append(str(Path.cwd().parent))\n",
    "\n",
    "from helpers import load_distilbert\n",
    "import json\n",
    "from sacred import Experiment\n",
    "from sacred.observers import MongoObserver, FileStorageObserver\n",
    "\n",
    "import numpy as np\n",
    "from baselines import ZeroBaselineFactory\n",
    "from evaluators import ProportionalityEvaluator\n",
    "from helpers import load_albert_v2, load_imdb_albert_lig_data, extract_token_ids_and_attributions, load_distilbert\n",
    "from attribution_methods import RandomAttributionValues\n",
    "from tqdm import tqdm\n",
    "\n",
    "# hill climbing search of a one-dimensional objective function\n",
    "from numpy import asarray\n",
    "from numpy import arange\n",
    "from numpy.random import randn\n",
    "from numpy.random import rand\n",
    "from numpy.random import seed\n",
    "from matplotlib import pyplot\n",
    "from evaluators import ProportionalityEvaluator"
   ]
  },
  {
   "cell_type": "code",
   "execution_count": 2,
   "outputs": [
    {
     "name": "stderr",
     "output_type": "stream",
     "text": [
      "Reusing dataset thermostat (/home/tim/.cache/huggingface/datasets/thermostat/imdb-albert-lig/1.0.1/0cbe93e1fbe5b8ed0217559442d8b49a80fd4c2787185f2d7940817c67d8707b)\n"
     ]
    },
    {
     "name": "stdout",
     "output_type": "stream",
     "text": [
      "Loading Thermostat configuration: imdb-albert-lig\n"
     ]
    }
   ],
   "source": [
    "data = load_imdb_albert_lig_data()\n",
    "model = load_distilbert(from_notebook=1)"
   ],
   "metadata": {
    "collapsed": false,
    "pycharm": {
     "name": "#%%\n"
    }
   }
  },
  {
   "cell_type": "code",
   "execution_count": 3,
   "outputs": [],
   "source": [
    "observations, lig_attributions = zip(*[extract_token_ids_and_attributions(d) for d in data[:1000]])\n",
    "del data\n",
    "\n",
    "evaluator = ProportionalityEvaluator(model=model, baseline_factory=ZeroBaselineFactory)"
   ],
   "metadata": {
    "collapsed": false,
    "pycharm": {
     "name": "#%%\n"
    }
   }
  },
  {
   "cell_type": "code",
   "execution_count": 6,
   "outputs": [
    {
     "data": {
      "text/plain": "array([0.63955045, 0.36044952], dtype=float32)"
     },
     "execution_count": 6,
     "metadata": {},
     "output_type": "execute_result"
    }
   ],
   "source": [],
   "metadata": {
    "collapsed": false,
    "pycharm": {
     "name": "#%%\n"
    }
   }
  },
  {
   "cell_type": "code",
   "execution_count": 10,
   "outputs": [],
   "source": [
    "def hillclimbing(objective, bounds, n_iterations, step_size):\n",
    "\t# generate an initial point\n",
    "\tsolution = bounds[:, 0] + rand(len(bounds)) * (bounds[:, 1] - bounds[:, 0])\n",
    "\t# evaluate the initial point\n",
    "\tsolution_eval = objective(solution)\n",
    "\t# run the hill climb\n",
    "\tsolutions = list()\n",
    "\tsolutions.append(solution)\n",
    "\tfor i in range(n_iterations):\n",
    "\t\t# take a step\n",
    "\t\tcandidate = solution + randn(len(bounds)) * step_size\n",
    "\t\t# evaluate candidate point\n",
    "\t\tcandidte_eval = objective(candidate)\n",
    "\t\t# check if we should keep the new point\n",
    "\t\tif candidte_eval <= solution_eval:\n",
    "\t\t\t# store the new point\n",
    "\t\t\tsolution, solution_eval = candidate, candidte_eval\n",
    "\t\t\t# keep track of solutions\n",
    "\t\t\tsolutions.append(solution)\n",
    "\t\t\t# report progress\n",
    "\t\t\tprint('>%d = %.5f' % (i, solution_eval))\n",
    "\treturn [solution, solution_eval, solutions]"
   ],
   "metadata": {
    "collapsed": false,
    "pycharm": {
     "name": "#%%\n"
    }
   }
  },
  {
   "cell_type": "code",
   "execution_count": 17,
   "outputs": [
    {
     "name": "stdout",
     "output_type": "stream",
     "text": [
      ">0 = 0.03923\n",
      ">5 = 0.03671\n",
      ">6 = 0.03581\n",
      ">7 = 0.03241\n",
      ">11 = 0.02932\n",
      ">16 = 0.02322\n",
      ">18 = 0.02219\n",
      ">19 = 0.01975\n",
      "Done!\n",
      "LIG score was 0.032406174991904214. Hillclimbing reached 0.019751162526147063 after 8.\n"
     ]
    }
   ],
   "source": [
    "# seed the pseudorandom number generator\n",
    "seed(5)\n",
    "# define data point\n",
    "observation = observations[0]\n",
    "lig_tpn = evaluator.compute_tpn(observation, lig_attributions[0])\n",
    "# define range for input\n",
    "bounds = asarray([(0,1) for _ in range(len(observation))])\n",
    "# define the total iterations\n",
    "n_iterations = 20\n",
    "# define the maximum step size\n",
    "step_size = 0.1\n",
    "#define objective function\n",
    "objective = lambda x: evaluator.compute_tpn(observation=observation, attribution_values=x)\n",
    "# perform the hill climbing search\n",
    "best, score, solutions = hillclimbing(objective, bounds, n_iterations, step_size)\n",
    "print('Done!')\n",
    "print(f'LIG score was {lig_tpn}. Hillclimbing reached {score} after {n_iterations}.')\n"
   ],
   "metadata": {
    "collapsed": false,
    "pycharm": {
     "name": "#%%\n"
    }
   }
  },
  {
   "cell_type": "code",
   "execution_count": 14,
   "outputs": [
    {
     "data": {
      "text/plain": "[array([0.22199317, 0.87073231, 0.20671916, 0.91861091, 0.48841119,\n        0.61174386, 0.76590786, 0.51841799, 0.2968005 , 0.18772123,\n        0.08074127, 0.7384403 , 0.44130922, 0.15830987, 0.87993703,\n        0.27408646, 0.41423502, 0.29607993, 0.62878791, 0.57983781,\n        0.5999292 , 0.26581912, 0.28468588, 0.25358821, 0.32756395,\n        0.1441643 , 0.16561286, 0.96393053, 0.96022672, 0.18841466,\n        0.02430656, 0.20455555, 0.69984361, 0.77951459, 0.02293309,\n        0.57766286, 0.00164217, 0.51547261, 0.63979518, 0.9856244 ,\n        0.2590976 , 0.80249689, 0.87048309, 0.92274961, 0.00221421,\n        0.46948837, 0.98146874, 0.3989448 , 0.81373248, 0.5464565 ,\n        0.77085409, 0.48493107, 0.02911156, 0.08652569, 0.11145381,\n        0.25124511, 0.96491529, 0.63176605, 0.8166602 , 0.566082  ,\n        0.63535621, 0.81190239, 0.92668262, 0.91262676, 0.82481072,\n        0.09420273, 0.36104842, 0.03550903, 0.54635835, 0.79614272,\n        0.0511428 , 0.18866774, 0.36547777, 0.24429087, 0.79508747,\n        0.35209494, 0.63887768, 0.49341505, 0.58349974, 0.93929935,\n        0.94354008, 0.11169243, 0.84355497, 0.34602815, 0.10082727,\n        0.38340907, 0.5103548 , 0.96110308, 0.37151262, 0.01236941,\n        0.85970689, 0.11111075, 0.47833904, 0.84998003, 0.51473797,\n        0.44660783, 0.80047642, 0.02039138, 0.57261865, 0.41138362,\n        0.9851368 , 0.80140153, 0.0539621 , 0.19047777, 0.45241885,\n        0.70294208, 0.33204815, 0.3599832 , 0.92147057, 0.95363051,\n        0.40768573, 0.89857115, 0.33025325, 0.08273857, 0.52671757,\n        0.66084439, 0.89298429, 0.96515755, 0.76993268, 0.75909912,\n        0.71004905, 0.70155283, 0.76733138, 0.97434948, 0.37371452,\n        0.08305444, 0.23964044, 0.22148276, 0.3635998 , 0.81031423,\n        0.06009617, 0.44974356, 0.81317053, 0.26423837, 0.06340098,\n        0.24210767, 0.08507046, 0.80777744, 0.17025008, 0.19534463,\n        0.81464201, 0.81028553, 0.58937388, 0.91473434, 0.05982164,\n        0.96499664, 0.57097522, 0.30251811, 0.82570583, 0.65941728,\n        0.98650144, 0.10748953, 0.58091853, 0.47282816, 0.65227079,\n        0.24185905, 0.03113006, 0.54423235, 0.36471018, 0.89233328,\n        0.45934559, 0.4186541 , 0.63290554, 0.52717883, 0.96121114,\n        0.78901011, 0.49669551, 0.211141  , 0.60398414, 0.74857581,\n        0.75586383, 0.99350401, 0.21849778, 0.42563733, 0.4238496 ,\n        0.31864644, 0.36533302, 0.47794131, 0.54209041]),\n array([ 0.15894022,  0.83024692,  0.13042469,  0.87703136,  0.60324679,\n         0.49491055,  0.93619091,  0.73129572,  0.43066689,  0.27174553,\n         0.21556553,  0.91487491,  0.2771396 ,  0.27702056,  0.93095961,\n         0.40938566,  0.30658158,  0.21534303,  0.60822494,  0.52194068,\n         0.58880434,  0.24377273,  0.389736  ,  0.07892981,  0.38623324,\n         0.27349695,  0.1639099 ,  1.13986711,  0.97491602,  0.41110108,\n         0.06913376,  0.09941772,  0.68612723,  0.7680244 ,  0.10559324,\n         0.65672293,  0.03193822,  0.48078868,  0.59809881,  0.94846103,\n         0.23380745,  0.82828335,  0.92450128,  1.07862665,  0.05373283,\n         0.60873211,  0.97049556,  0.44106504,  0.60126625,  0.5425273 ,\n         0.68430393,  0.59024275, -0.006488  , -0.06566729,  0.08478124,\n         0.21765793,  0.92558752,  0.73706019,  0.86911113,  0.52345268,\n         0.8246887 ,  0.91862726,  0.95993969,  0.97308051,  1.00435881,\n         0.13699766,  0.3079194 ,  0.08801133,  0.60256038,  0.81334273,\n        -0.03628065,  0.08679694,  0.53934833,  0.06265879,  0.79736965,\n         0.36477521,  0.67046174,  0.57184367,  0.39200498,  0.91249213,\n         1.06311371,  0.04705023,  0.81736857,  0.32270393,  0.1655152 ,\n         0.27351534,  0.38816221,  0.90756473,  0.3121803 , -0.01163969,\n         0.99171193,  0.08419174,  0.28673646,  0.65285847,  0.55654864,\n         0.51753882,  0.78402106,  0.03520357,  0.6437996 ,  0.38817783,\n         1.06138102,  0.78946974,  0.24733957,  0.03442792,  0.32952542,\n         0.55308002,  0.20818939,  0.29358935,  0.93539885,  1.06652133,\n         0.31143944,  0.90476532,  0.2256468 , -0.01203606,  0.52360566,\n         0.70912374,  0.9209028 ,  0.95147236,  0.91357007,  0.72961149,\n         0.79953439,  0.83095651,  0.83480166,  1.03211409,  0.25613212,\n        -0.2100604 ,  0.21462808,  0.14350121,  0.33803011,  0.84561043,\n         0.13550822,  0.51096138,  0.87435614,  0.19407398,  0.20304865,\n         0.18134973,  0.04779073,  0.91381215,  0.10995295,  0.06889412,\n         0.68845491,  0.88977503,  0.54596368,  0.99071999, -0.01541116,\n         1.0759962 ,  0.67863316,  0.30376173,  1.05954667,  0.63191994,\n         0.94468284, -0.10168261,  0.58416565,  0.40077982,  0.47036091,\n         0.19584624, -0.01824411,  0.44286547,  0.27120364,  0.75278362,\n         0.44408951,  0.49937097,  0.6521779 ,  0.6153648 ,  1.01199649,\n         0.93677824,  0.65882307,  0.22028667,  0.63917675,  0.78400162,\n         0.63831898,  0.83994582,  0.16729944,  0.43630927,  0.4583067 ,\n         0.44470362,  0.56888033,  0.39469324,  0.42900052])]"
     },
     "execution_count": 14,
     "metadata": {},
     "output_type": "execute_result"
    }
   ],
   "source": [
    "solutions\n",
    "\n"
   ],
   "metadata": {
    "collapsed": false,
    "pycharm": {
     "name": "#%%\n"
    }
   }
  },
  {
   "cell_type": "code",
   "execution_count": null,
   "outputs": [],
   "source": [],
   "metadata": {
    "collapsed": false,
    "pycharm": {
     "name": "#%%\n"
    }
   }
  }
 ],
 "metadata": {
  "kernelspec": {
   "display_name": "Python 3",
   "language": "python",
   "name": "python3"
  },
  "language_info": {
   "codemirror_mode": {
    "name": "ipython",
    "version": 2
   },
   "file_extension": ".py",
   "mimetype": "text/x-python",
   "name": "python",
   "nbconvert_exporter": "python",
   "pygments_lexer": "ipython2",
   "version": "2.7.6"
  }
 },
 "nbformat": 4,
 "nbformat_minor": 0
}