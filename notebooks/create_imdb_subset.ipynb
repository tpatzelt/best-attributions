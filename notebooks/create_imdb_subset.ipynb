{
 "cells": [
  {
   "cell_type": "code",
   "execution_count": 1,
   "id": "2142badd",
   "metadata": {},
   "outputs": [],
   "source": [
    "import captum\n",
    "import torch\n",
    "import thermostat\n",
    "import numpy as np\n",
    "from transformers import AutoTokenizer, AutoModelForSequenceClassification\n",
    "from captum.attr import IntegratedGradients, FeatureAblation\n",
    "import onnxruntime as ort\n",
    "from tqdm import tqdm\n",
    "\n",
    "import json"
   ]
  },
  {
   "cell_type": "code",
   "execution_count": 2,
   "id": "6a1742c1",
   "metadata": {},
   "outputs": [
    {
     "name": "stderr",
     "output_type": "stream",
     "text": [
      "Reusing dataset imdb (/home/tim/.cache/huggingface/datasets/imdb/plain_text/1.0.0/e3c66f1788a67a89c7058d97ff62b6c30531e05b549de56d3ab91891f0561f9a)\n"
     ]
    },
    {
     "data": {
      "application/vnd.jupyter.widget-view+json": {
       "model_id": "28ddecd9729b4acda45cb165e76f4c3a",
       "version_major": 2,
       "version_minor": 0
      },
      "text/plain": [
       "  0%|          | 0/3 [00:00<?, ?it/s]"
      ]
     },
     "metadata": {},
     "output_type": "display_data"
    }
   ],
   "source": [
    "from datasets import load_dataset\n",
    "dataset = load_dataset('imdb', ignore_verifications=True)"
   ]
  },
  {
   "cell_type": "code",
   "execution_count": 3,
   "id": "4c6eff28",
   "metadata": {},
   "outputs": [],
   "source": [
    "ds_sorted = sorted([(i, x) for i,x in enumerate(dataset[\"test\"])], key=lambda x: len(x[1][\"text\"]))"
   ]
  },
  {
   "cell_type": "code",
   "execution_count": 4,
   "id": "e98d610e",
   "metadata": {},
   "outputs": [
    {
     "data": {
      "text/plain": [
       "(17327,\n",
       " {'text': 'Don\\'t waste your time and money on it. It\\'s not quite as bad as \"Adrenalin\", by the same director but that\\'s not saying much.',\n",
       "  'label': 0})"
      ]
     },
     "execution_count": 4,
     "metadata": {},
     "output_type": "execute_result"
    }
   ],
   "source": [
    "ds_sorted[20]"
   ]
  },
  {
   "cell_type": "markdown",
   "id": "b6a6eb30",
   "metadata": {},
   "source": [
    "keys should be {text, input_ids, tokens, attributions, idx)"
   ]
  },
  {
   "cell_type": "code",
   "execution_count": 5,
   "id": "edc3f61d",
   "metadata": {},
   "outputs": [],
   "source": [
    "tokenizer = AutoTokenizer.from_pretrained(\"textattack/distilbert-base-uncased-imdb\")\n",
    "\n",
    "ort_session = ort.InferenceSession(\"../models/distilbert-base-uncased-imdb/model-optimized-quantized.onnx\")\n",
    "forward_func = lambda x: torch.tensor(ort_session.run([\"output_0\"], dict(input_ids=np.array(x),\n",
    "                                                        attention_mask=np.ones_like(x)))[0])"
   ]
  },
  {
   "cell_type": "code",
   "execution_count": 6,
   "id": "613b1cb4",
   "metadata": {},
   "outputs": [],
   "source": [
    "method = FeatureAblation(forward_func)"
   ]
  },
  {
   "cell_type": "code",
   "execution_count": 7,
   "id": "f085dadf",
   "metadata": {},
   "outputs": [
    {
     "name": "stderr",
     "output_type": "stream",
     "text": [
      "100%|█████████████████████████████████████████████████████████████| 1000/1000 [19:59<00:00,  1.20s/it]\n"
     ]
    }
   ],
   "source": [
    "samples = []\n",
    "for idx, data in tqdm(ds_sorted[:1000]):\n",
    "    input1 = tokenizer(data[\"text\"])\n",
    "    input_ids = torch.tensor([input1[\"input_ids\"]]).long()\n",
    "    attention_mask = torch.tensor([input1[\"attention_mask\"]]).long()\n",
    "    target_class = data[\"label\"]\n",
    "    attributions = method.attribute(input_ids,target=target_class, method='gausslegendre')\n",
    "    \n",
    "    sample={\"idx\": idx,\n",
    "            \"text\": data[\"text\"],\n",
    "            \"attributions\": attributions[0].tolist()}\n",
    "    tokenized = tokenizer(data[\"text\"])\n",
    "    sample[\"input_ids\"] = tokenized[\"input_ids\"]\n",
    "    sample[\"attention_mask\"] = tokenized[\"attention_mask\"]\n",
    "    sample[\"tokens\"] = tokenizer.convert_ids_to_tokens(tokenized[\"input_ids\"])\n",
    "    \n",
    "    samples.append(sample)"
   ]
  },
  {
   "cell_type": "code",
   "execution_count": 8,
   "id": "d1999a22",
   "metadata": {},
   "outputs": [],
   "source": [
    "with open(\"../data/albert-imdb-feature-ablation-1000.json\", \"w\") as fp:\n",
    "    json.dump(samples, fp)"
   ]
  },
  {
   "cell_type": "code",
   "execution_count": null,
   "id": "b2b20fd6",
   "metadata": {},
   "outputs": [],
   "source": []
  }
 ],
 "metadata": {
  "kernelspec": {
   "display_name": "Python 3 (ipykernel)",
   "language": "python",
   "name": "python3"
  },
  "language_info": {
   "codemirror_mode": {
    "name": "ipython",
    "version": 3
   },
   "file_extension": ".py",
   "mimetype": "text/x-python",
   "name": "python",
   "nbconvert_exporter": "python",
   "pygments_lexer": "ipython3",
   "version": "3.9.7"
  }
 },
 "nbformat": 4,
 "nbformat_minor": 5
}
