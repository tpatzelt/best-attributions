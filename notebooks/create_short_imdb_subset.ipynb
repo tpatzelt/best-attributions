{
 "cells": [
  {
   "cell_type": "code",
   "execution_count": 50,
   "id": "53016e30",
   "metadata": {},
   "outputs": [],
   "source": [
    "import captum\n",
    "import torch\n",
    "import thermostat\n",
    "import numpy as np\n",
    "from transformers import AutoTokenizer, AutoModelForSequenceClassification\n",
    "from captum.attr import IntegratedGradients, FeatureAblation\n",
    "\n",
    "import json"
   ]
  },
  {
   "cell_type": "code",
   "execution_count": 32,
   "id": "15bb6ce4",
   "metadata": {},
   "outputs": [
    {
     "data": {
      "application/vnd.jupyter.widget-view+json": {
       "model_id": "6c8b751409bb4e4c93f65ff2ba4aa65e",
       "version_major": 2,
       "version_minor": 0
      },
      "text/plain": [
       "Downloading:   0%|          | 0.00/1.92k [00:00<?, ?B/s]"
      ]
     },
     "metadata": {},
     "output_type": "display_data"
    },
    {
     "data": {
      "application/vnd.jupyter.widget-view+json": {
       "model_id": "8de7d3a777b3473893b515ab84d3149e",
       "version_major": 2,
       "version_minor": 0
      },
      "text/plain": [
       "Downloading:   0%|          | 0.00/1.05k [00:00<?, ?B/s]"
      ]
     },
     "metadata": {},
     "output_type": "display_data"
    },
    {
     "name": "stdout",
     "output_type": "stream",
     "text": [
      "Downloading and preparing dataset imdb/plain_text (download: 80.23 MiB, generated: 127.02 MiB, post-processed: Unknown size, total: 207.25 MiB) to /home/tim/.cache/huggingface/datasets/imdb/plain_text/1.0.0/e3c66f1788a67a89c7058d97ff62b6c30531e05b549de56d3ab91891f0561f9a...\n"
     ]
    },
    {
     "data": {
      "application/vnd.jupyter.widget-view+json": {
       "model_id": "49b10d7a0d014028b4cf55399d161f06",
       "version_major": 2,
       "version_minor": 0
      },
      "text/plain": [
       "Downloading:   0%|          | 0.00/84.1M [00:00<?, ?B/s]"
      ]
     },
     "metadata": {},
     "output_type": "display_data"
    },
    {
     "data": {
      "application/vnd.jupyter.widget-view+json": {
       "model_id": "",
       "version_major": 2,
       "version_minor": 0
      },
      "text/plain": [
       "0 examples [00:00, ? examples/s]"
      ]
     },
     "metadata": {},
     "output_type": "display_data"
    },
    {
     "data": {
      "application/vnd.jupyter.widget-view+json": {
       "model_id": "",
       "version_major": 2,
       "version_minor": 0
      },
      "text/plain": [
       "0 examples [00:00, ? examples/s]"
      ]
     },
     "metadata": {},
     "output_type": "display_data"
    },
    {
     "data": {
      "application/vnd.jupyter.widget-view+json": {
       "model_id": "",
       "version_major": 2,
       "version_minor": 0
      },
      "text/plain": [
       "0 examples [00:00, ? examples/s]"
      ]
     },
     "metadata": {},
     "output_type": "display_data"
    },
    {
     "name": "stdout",
     "output_type": "stream",
     "text": [
      "Dataset imdb downloaded and prepared to /home/tim/.cache/huggingface/datasets/imdb/plain_text/1.0.0/e3c66f1788a67a89c7058d97ff62b6c30531e05b549de56d3ab91891f0561f9a. Subsequent calls will reuse this data.\n"
     ]
    },
    {
     "data": {
      "application/vnd.jupyter.widget-view+json": {
       "model_id": "25608a80f82042419bfdb7f378328e71",
       "version_major": 2,
       "version_minor": 0
      },
      "text/plain": [
       "  0%|          | 0/3 [00:00<?, ?it/s]"
      ]
     },
     "metadata": {},
     "output_type": "display_data"
    }
   ],
   "source": [
    "from datasets import load_dataset\n",
    "dataset = load_dataset('imdb', ignore_verifications=True)"
   ]
  },
  {
   "cell_type": "code",
   "execution_count": 44,
   "id": "92a40dcf",
   "metadata": {},
   "outputs": [],
   "source": [
    "ds_sorted = sorted([(i, x) for i,x in enumerate(dataset[\"test\"])], key=lambda x: len(x[1][\"text\"]))"
   ]
  },
  {
   "cell_type": "code",
   "execution_count": 45,
   "id": "10b8501e",
   "metadata": {},
   "outputs": [
    {
     "data": {
      "text/plain": [
       "(17327,\n",
       " {'text': 'Don\\'t waste your time and money on it. It\\'s not quite as bad as \"Adrenalin\", by the same director but that\\'s not saying much.',\n",
       "  'label': 0})"
      ]
     },
     "execution_count": 45,
     "metadata": {},
     "output_type": "execute_result"
    }
   ],
   "source": [
    "ds_sorted[20]"
   ]
  },
  {
   "cell_type": "markdown",
   "id": "6eb62acc",
   "metadata": {},
   "source": [
    "keys should be {text, input_ids, tokens, attributions, idx)"
   ]
  },
  {
   "cell_type": "code",
   "execution_count": 96,
   "id": "1bf679ca",
   "metadata": {},
   "outputs": [],
   "source": [
    "tokenizer = AutoTokenizer.from_pretrained(\"textattack/distilbert-base-uncased-imdb\")\n",
    "\n",
    "model = AutoModelForSequenceClassification.from_pretrained(\"textattack/distilbert-base-uncased-imdb\", return_dict=False)\n"
   ]
  },
  {
   "cell_type": "code",
   "execution_count": null,
   "id": "b9440e82",
   "metadata": {},
   "outputs": [],
   "source": [
    "forward_func = lambda *x: model(*x)[0]\n",
    "method = FeatureAblation(forward_func)"
   ]
  },
  {
   "cell_type": "code",
   "execution_count": 134,
   "id": "a9d356ba",
   "metadata": {},
   "outputs": [],
   "source": [
    "samples = []\n",
    "for idx, data in ds_sorted:\n",
    "    input1 = tokenizer(data[\"text\"])\n",
    "    input_ids = torch.tensor([input1[\"input_ids\"]]).long()\n",
    "    attention_mask = torch.tensor([input1[\"attention_mask\"]]).long()\n",
    "    target_class = data[\"label\"]\n",
    "    attributions, approximation_error = method.attribute((input_ids, attention_mask),\n",
    "                                                 target=target_class,\n",
    "                                                 method='gausslegendre',\n",
    "                                                 return_convergence_delta=True)\n",
    "    \n",
    "    sample={\"idx\": idx,\n",
    "            \"text\": data[\"text\"],\n",
    "            \"attributions\": attributions[0].tolist()}\n",
    "    tokenized = tokenizer(data[\"text\"])\n",
    "    sample[\"input_ids\"] = tokenized[\"input_ids\"]\n",
    "    sample[\"attention_mask\"] = tokenized[\"attention_mask\"]\n",
    "    sample[\"tokens\"] = tokenizer.convert_ids_to_tokens(tokenized[\"input_ids\"])\n",
    "    \n",
    "    samples.append(sample)"
   ]
  },
  {
   "cell_type": "code",
   "execution_count": 139,
   "id": "b2b14cd7",
   "metadata": {},
   "outputs": [],
   "source": [
    "with open(\"../data/albert-imdb-feature-ablation.json\", \"w\") as fp:\n",
    "    json.dump(samples, fp)"
   ]
  },
  {
   "cell_type": "code",
   "execution_count": null,
   "id": "131ba79d",
   "metadata": {},
   "outputs": [],
   "source": []
  }
 ],
 "metadata": {
  "kernelspec": {
   "display_name": "Python 3 (ipykernel)",
   "language": "python",
   "name": "python3"
  },
  "language_info": {
   "codemirror_mode": {
    "name": "ipython",
    "version": 3
   },
   "file_extension": ".py",
   "mimetype": "text/x-python",
   "name": "python",
   "nbconvert_exporter": "python",
   "pygments_lexer": "ipython3",
   "version": "3.9.5"
  }
 },
 "nbformat": 4,
 "nbformat_minor": 5
}
