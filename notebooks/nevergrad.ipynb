{
 "cells": [
  {
   "cell_type": "code",
   "execution_count": 6,
   "outputs": [],
   "source": [
    "import sys\n",
    "from pathlib import Path\n",
    "\n",
    "sys.path.append(str(Path.cwd().parent))\n",
    "\n",
    "import json\n",
    "from matplotlib import pyplot as plt\n",
    "import numpy as np\n",
    "from baselines import ZeroBaselineFactory\n",
    "from models import load_distilbert\n",
    "\n",
    "from numpy.random import randn\n",
    "from evaluators import ProportionalityEvaluator\n",
    "import nevergrad as ng\n",
    "from concurrent import futures\n"
   ],
   "metadata": {
    "collapsed": false,
    "pycharm": {
     "name": "#%%\n"
    }
   }
  },
  {
   "cell_type": "code",
   "execution_count": 12,
   "outputs": [
    {
     "name": "stdout",
     "output_type": "stream",
     "text": [
      "[0.5 0.5]\n"
     ]
    }
   ],
   "source": [
    "def square(x):\n",
    "    return sum((x - 0.5) ** 2)\n",
    "\n",
    "# optimization on x as an array of shape (2,)\n",
    "optimizer = ng.optimizers.NGOpt(parametrization=2, budget=100, num_workers=2)\n",
    "\n",
    "with futures.ThreadPoolExecutor(max_workers=optimizer.num_workers) as executor:\n",
    "    recommendation = optimizer.minimize(square, executor=executor, batch_mode=False)\n",
    "print(recommendation.value)"
   ],
   "metadata": {
    "collapsed": false,
    "pycharm": {
     "name": "#%%\n"
    }
   }
  },
  {
   "cell_type": "code",
   "execution_count": 13,
   "outputs": [
    {
     "name": "stdout",
     "output_type": "stream",
     "text": [
      "['ASCMADEthird', 'AdaptiveDiscreteOnePlusOne', 'AlmostRotationInvariantDE', 'AnisotropicAdaptiveDiscreteOnePlusOne', 'AvgMetaRecenteringNoHull', 'BO', 'BOSplit', 'BayesOptimBO', 'CM', 'CMA', 'CMandAS2', 'CMandAS3', 'CauchyLHSSearch', 'CauchyOnePlusOne', 'CauchyScrHammersleySearch', 'ChainCMAPowell', 'ChainDiagonalCMAPowell', 'ChainMetaModelPowell', 'ChainMetaModelSQP', 'ChainNaiveTBPSACMAPowell', 'ChainNaiveTBPSAPowell', 'Cobyla', 'DE', 'DiagonalCMA', 'DiscreteBSOOnePlusOne', 'DiscreteDoerrOnePlusOne', 'DiscreteLenglerOnePlusOne', 'DiscreteOnePlusOne', 'DoubleFastGADiscreteOnePlusOne', 'EDA', 'ES', 'FCMA', 'GeneticDE', 'HaltonSearch', 'HaltonSearchPlusMiddlePoint', 'HammersleySearch', 'HammersleySearchPlusMiddlePoint', 'HullAvgMetaRecentering', 'HullAvgMetaTuneRecentering', 'LHSSearch', 'LargeHaltonSearch', 'LhsDE', 'MetaModel', 'MetaModelOnePlusOne', 'MetaRecentering', 'MetaTuneRecentering', 'MixES', 'MultiCMA', 'MultiDiscrete', 'MultiScaleCMA', 'MutDE', 'NGO', 'NGOpt', 'NGOpt10', 'NGOpt12', 'NGOpt13', 'NGOpt14', 'NGOpt15', 'NGOpt16', 'NGOpt21', 'NGOpt36', 'NGOpt38', 'NGOpt4', 'NGOpt8', 'NGOptBase', 'NaiveIsoEMNA', 'NaiveTBPSA', 'NelderMead', 'NoisyBandit', 'NoisyDE', 'NoisyDiscreteOnePlusOne', 'NoisyOnePlusOne', 'NonNSGAIIES', 'ORandomSearch', 'OScrHammersleySearch', 'OnePlusOne', 'OptimisticDiscreteOnePlusOne', 'OptimisticNoisyOnePlusOne', 'PCABO', 'PSO', 'ParaPortfolio', 'PolyCMA', 'Portfolio', 'PortfolioDiscreteOnePlusOne', 'Powell', 'PymooNSGA2', 'QORandomSearch', 'QOScrHammersleySearch', 'QrDE', 'RCobyla', 'RPowell', 'RSQP', 'RandomSearch', 'RandomSearchPlusMiddlePoint', 'RealSpacePSO', 'RecES', 'RecMixES', 'RecMutDE', 'RecombiningPortfolioDiscreteOnePlusOne', 'RecombiningPortfolioOptimisticNoisyDiscreteOnePlusOne', 'RescaledCMA', 'RotatedTwoPointsDE', 'RotationInvariantDE', 'SPSA', 'SQP', 'SQPCMA', 'ScrHaltonSearch', 'ScrHaltonSearchPlusMiddlePoint', 'ScrHammersleySearch', 'ScrHammersleySearchPlusMiddlePoint', 'Shiwa', 'SparseDoubleFastGADiscreteOnePlusOne', 'TBPSA', 'TripleCMA', 'TwoPointsDE', 'cGA']\n"
     ]
    }
   ],
   "source": [
    "print(sorted(ng.optimizers.registry.keys()))\n"
   ],
   "metadata": {
    "collapsed": false,
    "pycharm": {
     "name": "#%%\n"
    }
   }
  },
  {
   "cell_type": "code",
   "execution_count": 13,
   "outputs": [],
   "source": [],
   "metadata": {
    "collapsed": false,
    "pycharm": {
     "name": "#%%\n"
    }
   }
  },
  {
   "cell_type": "code",
   "execution_count": 74,
   "outputs": [],
   "source": [
    "model = load_distilbert(from_notebook=1)\n",
    "with open(\"./../data/imdb-distilbert-first-1000.json\", \"r\") as fp:\n",
    "    dataset = json.load(fp)\n"
   ],
   "metadata": {
    "collapsed": false,
    "pycharm": {
     "name": "#%%\n"
    }
   }
  },
  {
   "cell_type": "code",
   "execution_count": 75,
   "outputs": [
    {
     "name": "stdout",
     "output_type": "stream",
     "text": [
      "15\n",
      "15\n",
      "32\n",
      "85\n",
      "29\n",
      "37\n",
      "18\n",
      "17\n",
      "14\n",
      "18\n",
      "8\n",
      "24\n",
      "21\n",
      "10\n",
      "62\n",
      "8\n",
      "48\n",
      "21\n",
      "25\n",
      "177\n",
      "5\n",
      "13\n",
      "26\n",
      "73\n",
      "8\n",
      "38\n",
      "12\n",
      "8\n",
      "31\n",
      "20\n",
      "24\n",
      "40\n",
      "31\n",
      "25\n",
      "40\n",
      "48\n",
      "75\n",
      "30\n",
      "41\n",
      "39\n",
      "17\n",
      "10\n",
      "13\n",
      "24\n",
      "11\n",
      "16\n",
      "74\n",
      "17\n",
      "29\n",
      "18\n",
      "11\n",
      "11\n",
      "26\n",
      "43\n",
      "137\n",
      "3\n",
      "37\n",
      "18\n",
      "56\n",
      "29\n",
      "15\n",
      "10\n",
      "9\n",
      "13\n",
      "21\n",
      "40\n",
      "8\n",
      "40\n",
      "26\n",
      "3\n",
      "12\n",
      "30\n",
      "4\n",
      "13\n",
      "73\n",
      "57\n",
      "45\n",
      "16\n",
      "22\n",
      "22\n",
      "32\n",
      "27\n",
      "10\n",
      "9\n",
      "17\n",
      "35\n",
      "33\n",
      "73\n",
      "8\n",
      "23\n",
      "35\n",
      "17\n",
      "48\n",
      "94\n",
      "56\n",
      "18\n",
      "11\n",
      "22\n",
      "24\n",
      "61\n",
      "31\n",
      "26\n",
      "17\n",
      "37\n",
      "20\n",
      "82\n",
      "14\n",
      "13\n",
      "18\n",
      "12\n",
      "14\n",
      "29\n",
      "14\n",
      "16\n",
      "13\n",
      "14\n",
      "44\n",
      "38\n",
      "24\n",
      "20\n",
      "16\n",
      "51\n",
      "13\n",
      "14\n",
      "9\n",
      "28\n",
      "12\n",
      "4\n",
      "16\n",
      "32\n",
      "25\n",
      "10\n",
      "39\n",
      "39\n",
      "48\n",
      "23\n",
      "13\n",
      "35\n",
      "29\n",
      "33\n",
      "38\n",
      "24\n",
      "14\n",
      "6\n",
      "14\n",
      "12\n",
      "4\n",
      "21\n",
      "37\n",
      "8\n",
      "22\n",
      "19\n",
      "34\n",
      "11\n",
      "27\n",
      "30\n",
      "15\n",
      "21\n",
      "32\n",
      "17\n",
      "73\n",
      "22\n",
      "26\n",
      "41\n",
      "25\n",
      "7\n",
      "13\n",
      "33\n",
      "24\n",
      "25\n",
      "39\n",
      "44\n",
      "13\n",
      "25\n",
      "60\n",
      "14\n",
      "32\n",
      "16\n",
      "17\n",
      "23\n",
      "41\n",
      "38\n",
      "26\n",
      "35\n",
      "20\n",
      "41\n",
      "32\n",
      "54\n",
      "18\n",
      "14\n",
      "20\n",
      "13\n",
      "12\n",
      "32\n",
      "49\n",
      "67\n",
      "16\n",
      "7\n",
      "39\n",
      "15\n",
      "17\n",
      "13\n",
      "22\n",
      "16\n",
      "5\n",
      "34\n",
      "38\n",
      "11\n",
      "16\n",
      "16\n",
      "16\n",
      "30\n",
      "30\n",
      "26\n",
      "26\n",
      "28\n",
      "35\n",
      "51\n",
      "12\n",
      "34\n",
      "24\n",
      "3\n",
      "7\n",
      "22\n",
      "20\n",
      "22\n",
      "11\n",
      "6\n",
      "46\n",
      "13\n",
      "11\n",
      "65\n",
      "21\n",
      "26\n",
      "31\n",
      "25\n",
      "19\n",
      "25\n",
      "27\n",
      "50\n",
      "107\n",
      "72\n",
      "34\n",
      "94\n",
      "15\n",
      "11\n",
      "28\n",
      "19\n",
      "20\n",
      "18\n",
      "55\n",
      "11\n",
      "13\n",
      "44\n",
      "39\n",
      "22\n",
      "2\n",
      "27\n",
      "27\n",
      "18\n",
      "20\n",
      "33\n",
      "48\n",
      "26\n",
      "7\n",
      "17\n",
      "15\n",
      "36\n",
      "57\n",
      "17\n",
      "5\n",
      "10\n",
      "26\n",
      "36\n",
      "21\n",
      "38\n",
      "11\n",
      "27\n",
      "34\n",
      "23\n",
      "14\n",
      "8\n",
      "17\n",
      "27\n",
      "42\n",
      "8\n",
      "12\n",
      "10\n",
      "19\n",
      "13\n",
      "26\n",
      "13\n",
      "33\n",
      "28\n",
      "17\n",
      "11\n",
      "12\n",
      "23\n",
      "27\n",
      "23\n",
      "17\n",
      "11\n",
      "17\n",
      "45\n",
      "24\n",
      "36\n",
      "7\n",
      "6\n",
      "9\n",
      "30\n",
      "41\n",
      "17\n",
      "33\n",
      "37\n",
      "3\n",
      "34\n",
      "14\n",
      "15\n",
      "27\n",
      "19\n",
      "55\n",
      "32\n",
      "20\n",
      "98\n",
      "17\n",
      "18\n",
      "21\n",
      "9\n",
      "23\n",
      "15\n",
      "15\n",
      "15\n",
      "19\n",
      "26\n",
      "7\n",
      "31\n",
      "47\n",
      "11\n",
      "11\n",
      "41\n",
      "23\n",
      "28\n",
      "24\n",
      "27\n",
      "24\n",
      "26\n",
      "26\n",
      "21\n",
      "7\n",
      "96\n",
      "30\n",
      "10\n",
      "11\n",
      "22\n",
      "55\n",
      "34\n",
      "29\n",
      "15\n",
      "25\n",
      "9\n",
      "37\n",
      "8\n",
      "22\n",
      "20\n",
      "21\n",
      "28\n",
      "27\n",
      "22\n",
      "122\n",
      "45\n",
      "35\n",
      "20\n",
      "18\n",
      "30\n",
      "17\n",
      "13\n",
      "25\n",
      "8\n",
      "5\n",
      "27\n",
      "25\n",
      "25\n",
      "18\n",
      "27\n",
      "36\n",
      "5\n",
      "22\n",
      "19\n",
      "29\n",
      "30\n",
      "22\n",
      "10\n",
      "11\n",
      "13\n",
      "5\n",
      "20\n",
      "9\n",
      "3\n",
      "21\n",
      "43\n",
      "2\n",
      "35\n",
      "22\n",
      "51\n",
      "15\n",
      "14\n",
      "17\n",
      "25\n",
      "14\n",
      "38\n",
      "20\n",
      "24\n",
      "33\n",
      "14\n",
      "5\n",
      "35\n",
      "13\n",
      "34\n",
      "5\n",
      "9\n",
      "21\n",
      "40\n",
      "35\n",
      "18\n",
      "30\n",
      "20\n",
      "21\n",
      "23\n",
      "11\n",
      "14\n",
      "30\n",
      "55\n",
      "4\n",
      "29\n",
      "29\n",
      "43\n",
      "34\n",
      "15\n",
      "31\n",
      "30\n",
      "33\n",
      "15\n",
      "19\n",
      "22\n",
      "20\n",
      "25\n",
      "13\n",
      "11\n",
      "5\n",
      "28\n",
      "41\n",
      "15\n",
      "13\n",
      "45\n",
      "38\n",
      "14\n",
      "6\n",
      "8\n",
      "18\n",
      "27\n",
      "17\n",
      "10\n",
      "13\n",
      "16\n",
      "26\n",
      "19\n",
      "47\n",
      "17\n",
      "43\n",
      "14\n",
      "22\n",
      "26\n",
      "24\n",
      "15\n",
      "8\n",
      "63\n",
      "14\n",
      "34\n",
      "6\n",
      "23\n",
      "16\n",
      "15\n",
      "43\n",
      "27\n",
      "18\n",
      "12\n",
      "34\n",
      "4\n",
      "20\n",
      "15\n",
      "6\n",
      "20\n",
      "2\n",
      "53\n",
      "59\n",
      "20\n",
      "37\n",
      "42\n",
      "17\n",
      "7\n",
      "26\n",
      "24\n",
      "30\n",
      "13\n",
      "12\n",
      "17\n",
      "11\n",
      "10\n",
      "2\n",
      "11\n",
      "65\n",
      "25\n",
      "17\n",
      "18\n",
      "8\n",
      "31\n",
      "12\n",
      "5\n",
      "23\n",
      "22\n",
      "24\n",
      "47\n",
      "16\n",
      "52\n",
      "12\n",
      "6\n",
      "5\n",
      "33\n",
      "5\n",
      "47\n",
      "37\n",
      "9\n",
      "55\n",
      "11\n",
      "2\n",
      "22\n",
      "29\n",
      "31\n",
      "38\n",
      "18\n",
      "6\n",
      "13\n",
      "15\n",
      "24\n",
      "22\n",
      "10\n",
      "10\n",
      "18\n",
      "45\n",
      "15\n",
      "18\n",
      "14\n",
      "38\n",
      "32\n",
      "8\n",
      "35\n",
      "36\n",
      "20\n",
      "39\n",
      "17\n",
      "38\n",
      "31\n",
      "35\n",
      "2\n",
      "34\n",
      "60\n",
      "43\n",
      "36\n",
      "14\n",
      "19\n",
      "24\n",
      "20\n",
      "19\n",
      "40\n",
      "22\n",
      "11\n",
      "26\n",
      "52\n",
      "7\n",
      "19\n",
      "13\n",
      "12\n",
      "53\n",
      "45\n",
      "31\n",
      "26\n",
      "31\n",
      "38\n",
      "38\n",
      "14\n",
      "9\n",
      "17\n",
      "23\n",
      "34\n",
      "20\n",
      "6\n",
      "16\n",
      "26\n",
      "23\n",
      "33\n",
      "22\n",
      "15\n",
      "28\n",
      "31\n",
      "24\n",
      "10\n",
      "20\n",
      "49\n",
      "64\n",
      "12\n",
      "24\n",
      "27\n",
      "7\n",
      "11\n",
      "17\n",
      "26\n",
      "19\n",
      "51\n",
      "113\n",
      "3\n",
      "15\n",
      "10\n",
      "41\n",
      "35\n",
      "40\n",
      "23\n",
      "12\n",
      "16\n",
      "15\n",
      "12\n",
      "13\n",
      "29\n",
      "20\n",
      "15\n",
      "3\n",
      "116\n",
      "10\n",
      "54\n",
      "11\n",
      "34\n",
      "13\n",
      "27\n",
      "2\n",
      "65\n",
      "20\n",
      "18\n",
      "11\n",
      "50\n",
      "27\n",
      "14\n",
      "22\n",
      "21\n",
      "17\n",
      "18\n",
      "10\n",
      "15\n",
      "25\n",
      "24\n",
      "45\n",
      "7\n",
      "17\n",
      "5\n",
      "11\n",
      "4\n",
      "30\n",
      "22\n",
      "51\n",
      "15\n",
      "50\n",
      "6\n",
      "18\n",
      "11\n",
      "28\n",
      "51\n",
      "12\n",
      "28\n",
      "17\n",
      "40\n",
      "24\n",
      "18\n",
      "21\n",
      "20\n",
      "19\n",
      "29\n",
      "25\n",
      "25\n",
      "10\n",
      "54\n",
      "21\n",
      "26\n",
      "13\n",
      "6\n",
      "16\n",
      "24\n",
      "70\n",
      "47\n",
      "9\n",
      "18\n",
      "20\n",
      "16\n",
      "42\n",
      "11\n",
      "26\n",
      "28\n",
      "18\n",
      "54\n",
      "24\n",
      "14\n",
      "19\n",
      "17\n",
      "41\n",
      "33\n",
      "45\n",
      "8\n",
      "29\n",
      "13\n",
      "26\n",
      "49\n",
      "23\n",
      "27\n",
      "7\n",
      "21\n",
      "23\n",
      "8\n",
      "10\n",
      "22\n",
      "20\n",
      "40\n",
      "21\n",
      "49\n",
      "34\n",
      "12\n",
      "32\n",
      "13\n",
      "20\n",
      "10\n",
      "11\n",
      "18\n",
      "63\n",
      "27\n",
      "9\n",
      "66\n",
      "13\n",
      "8\n",
      "33\n",
      "17\n",
      "33\n",
      "35\n",
      "17\n",
      "13\n",
      "29\n",
      "19\n",
      "23\n",
      "29\n",
      "17\n",
      "14\n",
      "15\n",
      "15\n",
      "11\n",
      "14\n",
      "6\n",
      "26\n",
      "15\n",
      "18\n",
      "7\n",
      "28\n",
      "18\n",
      "20\n",
      "21\n",
      "8\n",
      "42\n",
      "35\n",
      "13\n",
      "41\n",
      "2\n",
      "28\n",
      "63\n",
      "17\n",
      "20\n",
      "23\n",
      "31\n",
      "19\n",
      "16\n",
      "17\n",
      "25\n",
      "17\n",
      "14\n",
      "18\n",
      "11\n",
      "7\n",
      "22\n",
      "16\n",
      "43\n",
      "21\n",
      "21\n",
      "30\n",
      "12\n",
      "11\n",
      "23\n",
      "23\n",
      "20\n",
      "19\n",
      "68\n",
      "42\n",
      "29\n",
      "25\n",
      "34\n",
      "30\n",
      "39\n",
      "21\n",
      "51\n",
      "21\n",
      "36\n",
      "9\n",
      "19\n",
      "21\n",
      "10\n",
      "44\n",
      "40\n",
      "20\n",
      "21\n",
      "20\n",
      "19\n",
      "66\n",
      "64\n",
      "35\n",
      "24\n",
      "21\n",
      "25\n",
      "16\n",
      "23\n",
      "19\n",
      "21\n",
      "46\n",
      "7\n",
      "7\n",
      "26\n",
      "19\n",
      "14\n",
      "17\n",
      "29\n",
      "48\n",
      "22\n",
      "4\n",
      "17\n",
      "16\n",
      "35\n",
      "25\n",
      "11\n",
      "26\n",
      "12\n",
      "11\n",
      "32\n",
      "32\n",
      "38\n",
      "14\n",
      "117\n",
      "29\n",
      "17\n",
      "87\n",
      "30\n",
      "25\n",
      "32\n",
      "20\n",
      "3\n",
      "16\n",
      "31\n",
      "12\n",
      "42\n",
      "12\n",
      "19\n",
      "16\n",
      "23\n",
      "9\n",
      "38\n",
      "15\n",
      "4\n",
      "25\n",
      "18\n",
      "11\n",
      "20\n",
      "35\n",
      "21\n",
      "11\n",
      "8\n",
      "13\n",
      "11\n",
      "6\n",
      "17\n",
      "21\n",
      "24\n",
      "29\n",
      "20\n",
      "31\n",
      "40\n",
      "24\n",
      "11\n",
      "25\n",
      "23\n",
      "21\n",
      "14\n",
      "38\n",
      "30\n",
      "77\n",
      "12\n",
      "14\n",
      "39\n",
      "8\n",
      "26\n",
      "28\n",
      "19\n",
      "13\n",
      "20\n",
      "46\n",
      "26\n",
      "58\n",
      "39\n",
      "18\n",
      "34\n",
      "9\n",
      "16\n",
      "13\n",
      "9\n",
      "48\n",
      "11\n",
      "59\n",
      "41\n",
      "36\n",
      "15\n",
      "67\n",
      "18\n",
      "13\n",
      "36\n",
      "25\n",
      "30\n",
      "45\n",
      "1\n",
      "76\n",
      "26\n",
      "41\n",
      "37\n",
      "20\n",
      "18\n",
      "22\n",
      "31\n",
      "68\n",
      "18\n",
      "12\n",
      "7\n",
      "17\n",
      "21\n",
      "29\n",
      "46\n",
      "8\n",
      "51\n",
      "26\n",
      "38\n",
      "6\n",
      "8\n",
      "24\n",
      "3\n",
      "29\n",
      "27\n",
      "50\n",
      "52\n",
      "29\n",
      "15\n",
      "20\n",
      "13\n",
      "51\n",
      "11\n",
      "7\n",
      "15\n",
      "17\n",
      "19\n",
      "39\n",
      "18\n",
      "26\n",
      "14\n",
      "17\n",
      "80\n",
      "25\n",
      "39\n",
      "42\n",
      "35\n",
      "64\n",
      "14\n",
      "28\n",
      "8\n",
      "29\n",
      "27\n",
      "32\n",
      "11\n",
      "32\n",
      "15\n",
      "13\n",
      "5\n"
     ]
    }
   ],
   "source": [
    "for observation in dataset:\n",
    "    cnt = 0\n",
    "    idx = None\n",
    "    for i,token in enumerate(observation['tokens']):\n",
    "        if '.' in token:\n",
    "        #    cnt += 1\n",
    "        #if cnt == 2:\n",
    "            idx = i\n",
    "            print(i)\n",
    "            observation['input_ids'] = observation['input_ids'][:idx]\n",
    "            observation['attention_mask'] = observation['attention_mask'][:idx]\n",
    "            observation['tokens'] = observation['tokens'][:idx]\n",
    "            break"
   ],
   "metadata": {
    "collapsed": false,
    "pycharm": {
     "name": "#%%\n"
    }
   }
  },
  {
   "cell_type": "code",
   "execution_count": 76,
   "outputs": [
    {
     "name": "stdout",
     "output_type": "stream",
     "text": [
      "0.10311938906179224\n"
     ]
    }
   ],
   "source": [
    "observation = np.asarray(dataset[0][\"input_ids\"][:512])\n",
    "evaluator = ProportionalityEvaluator(model=model, baseline_factory=ZeroBaselineFactory)\n",
    "objective = lambda candidate: evaluator.compute_tpn(observation=observation, attribution_values=candidate)\n",
    "\n",
    "res = objective(np.random.random(observation.shape))  # objective should be called on attributions\n",
    "print(res)"
   ],
   "metadata": {
    "collapsed": false,
    "pycharm": {
     "name": "#%%\n"
    }
   }
  },
  {
   "cell_type": "code",
   "execution_count": 77,
   "outputs": [
    {
     "name": "stdout",
     "output_type": "stream",
     "text": [
      "0.001974343638382451\n",
      "0.0024430478841208025\n",
      "0.014036239161498817\n",
      "0.003022513163356792\n",
      "0.003654173749412166\n",
      "0.012071879501730708\n",
      "0.09416731972689833\n",
      "0.0023068389849564223\n",
      "0.005165421627510061\n",
      "0.07158235919729529\n",
      "0.031796299687091405\n",
      "0.007457936534688701\n",
      "0.07190112540092272\n",
      "0.010260848722817647\n",
      "0.016128862749529974\n",
      "0.005294861227379262\n",
      "0.020948823825373334\n",
      "0.002742861687828678\n",
      "0.08257106856150813\n",
      "0.0224035170345335\n",
      "0.00849448320055944\n",
      "0.004771402331275412\n",
      "0.005504342238274386\n",
      "0.0009217600428230165\n",
      "0.009119708503935951\n",
      "0.00897573809340036\n",
      "0.0014018610332348018\n",
      "0.012398586766411127\n",
      "0.009783031933103654\n",
      "0.0010806921522324019\n",
      "0.0045268539401953365\n",
      "0.007412603121002974\n",
      "0.011557294417105827\n",
      "0.004443268467222495\n",
      "0.0349500600065404\n",
      "0.023355705558347428\n",
      "0.007379466015270911\n",
      "0.01092864094479722\n"
     ]
    },
    {
     "ename": "KeyboardInterrupt",
     "evalue": "",
     "output_type": "error",
     "traceback": [
      "\u001B[0;31m---------------------------------------------------------------------------\u001B[0m",
      "\u001B[0;31mKeyboardInterrupt\u001B[0m                         Traceback (most recent call last)",
      "\u001B[0;32m/tmp/ipykernel_7522/1424585957.py\u001B[0m in \u001B[0;36m<module>\u001B[0;34m\u001B[0m\n\u001B[1;32m     18\u001B[0m     \u001B[0moptimizer\u001B[0m \u001B[0;34m=\u001B[0m \u001B[0mng\u001B[0m\u001B[0;34m.\u001B[0m\u001B[0moptimizers\u001B[0m\u001B[0;34m.\u001B[0m\u001B[0mNGOpt\u001B[0m\u001B[0;34m(\u001B[0m\u001B[0mparametrization\u001B[0m\u001B[0;34m=\u001B[0m\u001B[0mparam\u001B[0m\u001B[0;34m,\u001B[0m \u001B[0mbudget\u001B[0m\u001B[0;34m=\u001B[0m\u001B[0;36m300\u001B[0m\u001B[0;34m,\u001B[0m \u001B[0mnum_workers\u001B[0m\u001B[0;34m=\u001B[0m\u001B[0;36m4\u001B[0m\u001B[0;34m)\u001B[0m\u001B[0;34m\u001B[0m\u001B[0;34m\u001B[0m\u001B[0m\n\u001B[1;32m     19\u001B[0m     \u001B[0;32mwith\u001B[0m \u001B[0mfutures\u001B[0m\u001B[0;34m.\u001B[0m\u001B[0mThreadPoolExecutor\u001B[0m\u001B[0;34m(\u001B[0m\u001B[0mmax_workers\u001B[0m\u001B[0;34m=\u001B[0m\u001B[0moptimizer\u001B[0m\u001B[0;34m.\u001B[0m\u001B[0mnum_workers\u001B[0m\u001B[0;34m)\u001B[0m \u001B[0;32mas\u001B[0m \u001B[0mexecutor\u001B[0m\u001B[0;34m:\u001B[0m\u001B[0;34m\u001B[0m\u001B[0;34m\u001B[0m\u001B[0m\n\u001B[0;32m---> 20\u001B[0;31m         \u001B[0mrecommendation\u001B[0m \u001B[0;34m=\u001B[0m \u001B[0moptimizer\u001B[0m\u001B[0;34m.\u001B[0m\u001B[0mminimize\u001B[0m\u001B[0;34m(\u001B[0m\u001B[0mobjective\u001B[0m\u001B[0;34m,\u001B[0m\u001B[0mexecutor\u001B[0m\u001B[0;34m=\u001B[0m\u001B[0mexecutor\u001B[0m\u001B[0;34m,\u001B[0m \u001B[0mbatch_mode\u001B[0m\u001B[0;34m=\u001B[0m\u001B[0;32mFalse\u001B[0m\u001B[0;34m)\u001B[0m\u001B[0;34m\u001B[0m\u001B[0;34m\u001B[0m\u001B[0m\n\u001B[0m\u001B[1;32m     21\u001B[0m     \u001B[0mprint\u001B[0m\u001B[0;34m(\u001B[0m\u001B[0mobjective\u001B[0m\u001B[0;34m(\u001B[0m\u001B[0mrecommendation\u001B[0m\u001B[0;34m.\u001B[0m\u001B[0mvalue\u001B[0m\u001B[0;34m)\u001B[0m\u001B[0;34m)\u001B[0m\u001B[0;34m\u001B[0m\u001B[0;34m\u001B[0m\u001B[0m\n\u001B[1;32m     22\u001B[0m     \u001B[0mresults\u001B[0m\u001B[0;34m.\u001B[0m\u001B[0mappend\u001B[0m\u001B[0;34m(\u001B[0m\u001B[0mrecommendation\u001B[0m\u001B[0;34m)\u001B[0m\u001B[0;34m\u001B[0m\u001B[0;34m\u001B[0m\u001B[0m\n",
      "\u001B[0;32m~/.cache/pypoetry/virtualenvs/best-attributions-KSHz0FDa-py3.9/lib/python3.9/site-packages/nevergrad/optimization/base.py\u001B[0m in \u001B[0;36mminimize\u001B[0;34m(self, objective_function, executor, batch_mode, verbosity)\u001B[0m\n\u001B[1;32m    638\u001B[0m                         \u001B[0mprint\u001B[0m\u001B[0;34m(\u001B[0m\u001B[0;34m\"Current pessimistic best is: {}\"\u001B[0m\u001B[0;34m.\u001B[0m\u001B[0mformat\u001B[0m\u001B[0;34m(\u001B[0m\u001B[0mself\u001B[0m\u001B[0;34m.\u001B[0m\u001B[0mcurrent_bests\u001B[0m\u001B[0;34m[\u001B[0m\u001B[0;34m\"pessimistic\"\u001B[0m\u001B[0;34m]\u001B[0m\u001B[0;34m)\u001B[0m\u001B[0;34m)\u001B[0m\u001B[0;34m\u001B[0m\u001B[0;34m\u001B[0m\u001B[0m\n\u001B[1;32m    639\u001B[0m             \u001B[0;32melif\u001B[0m \u001B[0;32mnot\u001B[0m \u001B[0mfirst_iteration\u001B[0m\u001B[0;34m:\u001B[0m\u001B[0;34m\u001B[0m\u001B[0;34m\u001B[0m\u001B[0m\n\u001B[0;32m--> 640\u001B[0;31m                 \u001B[0msleeper\u001B[0m\u001B[0;34m.\u001B[0m\u001B[0msleep\u001B[0m\u001B[0;34m(\u001B[0m\u001B[0;34m)\u001B[0m\u001B[0;34m\u001B[0m\u001B[0;34m\u001B[0m\u001B[0m\n\u001B[0m\u001B[1;32m    641\u001B[0m             \u001B[0;31m# # # # # Start new jobs # # # # #\u001B[0m\u001B[0;34m\u001B[0m\u001B[0;34m\u001B[0m\u001B[0m\n\u001B[1;32m    642\u001B[0m             \u001B[0;32mif\u001B[0m \u001B[0;32mnot\u001B[0m \u001B[0mbatch_mode\u001B[0m \u001B[0;32mor\u001B[0m \u001B[0;32mnot\u001B[0m \u001B[0mself\u001B[0m\u001B[0;34m.\u001B[0m\u001B[0m_running_jobs\u001B[0m\u001B[0;34m:\u001B[0m\u001B[0;34m\u001B[0m\u001B[0;34m\u001B[0m\u001B[0m\n",
      "\u001B[0;32m~/.cache/pypoetry/virtualenvs/best-attributions-KSHz0FDa-py3.9/lib/python3.9/site-packages/nevergrad/common/tools.py\u001B[0m in \u001B[0;36msleep\u001B[0;34m(self)\u001B[0m\n\u001B[1;32m    111\u001B[0m \u001B[0;34m\u001B[0m\u001B[0m\n\u001B[1;32m    112\u001B[0m     \u001B[0;32mdef\u001B[0m \u001B[0msleep\u001B[0m\u001B[0;34m(\u001B[0m\u001B[0mself\u001B[0m\u001B[0;34m)\u001B[0m \u001B[0;34m->\u001B[0m \u001B[0;32mNone\u001B[0m\u001B[0;34m:\u001B[0m\u001B[0;34m\u001B[0m\u001B[0;34m\u001B[0m\u001B[0m\n\u001B[0;32m--> 113\u001B[0;31m         \u001B[0mtime\u001B[0m\u001B[0;34m.\u001B[0m\u001B[0msleep\u001B[0m\u001B[0;34m(\u001B[0m\u001B[0mself\u001B[0m\u001B[0;34m.\u001B[0m\u001B[0m_get_advised_sleep_duration\u001B[0m\u001B[0;34m(\u001B[0m\u001B[0;34m)\u001B[0m\u001B[0;34m)\u001B[0m\u001B[0;34m\u001B[0m\u001B[0;34m\u001B[0m\u001B[0m\n\u001B[0m\u001B[1;32m    114\u001B[0m \u001B[0;34m\u001B[0m\u001B[0m\n\u001B[1;32m    115\u001B[0m \u001B[0;34m\u001B[0m\u001B[0m\n",
      "\u001B[0;31mKeyboardInterrupt\u001B[0m: "
     ]
    }
   ],
   "source": [
    "evaluator = ProportionalityEvaluator(model=model, baseline_factory=ZeroBaselineFactory)\n",
    "results = []\n",
    "for observation in dataset[:100]:\n",
    "    observation = np.asarray(observation[\"input_ids\"])\n",
    "\n",
    "\n",
    "    def objective(candidate):\n",
    "        res = evaluator.compute_tpn(observation=observation, attribution_values=candidate)\n",
    "        if res is None:\n",
    "            return 10 # float(\"inf\")\n",
    "        return res\n",
    "\n",
    "\n",
    "    param = ng.p.Array(shape=observation.shape)\n",
    "    param.set_bounds(lower=0)\n",
    "    param.set_mutation(sigma=1)\n",
    "\n",
    "    optimizer = ng.optimizers.NGOpt(parametrization=param, budget=300, num_workers=4)\n",
    "    with futures.ThreadPoolExecutor(max_workers=optimizer.num_workers) as executor:\n",
    "        recommendation = optimizer.minimize(objective,executor=executor, batch_mode=False)\n",
    "    print(objective(recommendation.value))\n",
    "    results.append(recommendation)\n",
    "    # print(recommendation.value)\n",
    "    #plt.scatter(y=recommendation.value, x=list(range(len(recommendation.value))))\n",
    "    # plt.hist(recommendation.value, bins=50)\n",
    "\n"
   ],
   "metadata": {
    "collapsed": false,
    "pycharm": {
     "name": "#%%\n"
    }
   }
  },
  {
   "cell_type": "code",
   "execution_count": 78,
   "outputs": [
    {
     "name": "stderr",
     "output_type": "stream",
     "text": [
      "/tmp/ipykernel_7522/1159104269.py:3: RuntimeWarning: More than 20 figures have been opened. Figures created through the pyplot interface (`matplotlib.pyplot.figure`) are retained until explicitly closed and may consume too much memory. (To control this warning, see the rcParam `figure.max_open_warning`).\n",
      "  fig, ax = plt.subplots()\n"
     ]
    },
    {
     "data": {
      "text/plain": "<Figure size 432x288 with 1 Axes>",
      "image/png": "[encoded data removed]"
     },
     "metadata": {
      "needs_background": "light"
     },
     "output_type": "display_data"
    },
    {
     "data": {
      "text/plain": "<Figure size 432x288 with 1 Axes>",
      "image/png": "[encoded data removed]"
     },
     "metadata": {
      "needs_background": "light"
     },
     "output_type": "display_data"
    },
    {
     "data": {
      "text/plain": "<Figure size 432x288 with 1 Axes>",
      "image/png": "[encoded data removed]"
     },
     "metadata": {
      "needs_background": "light"
     },
     "output_type": "display_data"
    },
    {
     "data": {
      "text/plain": "<Figure size 432x288 with 1 Axes>",
      "image/png": "[encoded data removed]"
     },
     "metadata": {
      "needs_background": "light"
     },
     "output_type": "display_data"
    },
    {
     "data": {
      "text/plain": "<Figure size 432x288 with 1 Axes>",
      "image/png": "[encoded data removed]"
     },
     "metadata": {
      "needs_background": "light"
     },
     "output_type": "display_data"
    },
    {
     "data": {
      "text/plain": "<Figure size 432x288 with 1 Axes>",
      "image/png": "[encoded data removed]"
     },
     "metadata": {
      "needs_background": "light"
     },
     "output_type": "display_data"
    },
    {
     "data": {
      "text/plain": "<Figure size 432x288 with 1 Axes>",
      "image/png": "[encoded data removed]"
     },
     "metadata": {
      "needs_background": "light"
     },
     "output_type": "display_data"
    },
    {
     "data": {
      "text/plain": "<Figure size 432x288 with 1 Axes>",
      "image/png": "[encoded data removed]"
     },
     "metadata": {
      "needs_background": "light"
     },
     "output_type": "display_data"
    },
    {
     "data": {
      "text/plain": "<Figure size 432x288 with 1 Axes>",
      "image/png": "[encoded data removed]"
     },
     "metadata": {
      "needs_background": "light"
     },
     "output_type": "display_data"
    },
    {
     "data": {
      "text/plain": "<Figure size 432x288 with 1 Axes>",
      "image/png": "[encoded data removed]"
     },
     "metadata": {
      "needs_background": "light"
     },
     "output_type": "display_data"
    },
    {
     "data": {
      "text/plain": "<Figure size 432x288 with 1 Axes>",
      "image/png": "[encoded data removed]"
     },
     "metadata": {
      "needs_background": "light"
     },
     "output_type": "display_data"
    },
    {
     "data": {
      "text/plain": "<Figure size 432x288 with 1 Axes>",
      "image/png": "[encoded data removed]"
     },
     "metadata": {
      "needs_background": "light"
     },
     "output_type": "display_data"
    },
    {
     "data": {
      "text/plain": "<Figure size 432x288 with 1 Axes>",
      "image/png": "[encoded data removed]"
     },
     "metadata": {
      "needs_background": "light"
     },
     "output_type": "display_data"
    },
    {
     "data": {
      "text/plain": "<Figure size 432x288 with 1 Axes>",
      "image/png": "[encoded data removed]"
     },
     "metadata": {
      "needs_background": "light"
     },
     "output_type": "display_data"
    },
    {
     "data": {
      "text/plain": "<Figure size 432x288 with 1 Axes>",
      "image/png": "[encoded data removed]"
     },
     "metadata": {
      "needs_background": "light"
     },
     "output_type": "display_data"
    },
    {
     "data": {
      "text/plain": "<Figure size 432x288 with 1 Axes>",
      "image/png": "[encoded data removed]"
     },
     "metadata": {
      "needs_background": "light"
     },
     "output_type": "display_data"
    },
    {
     "data": {
      "text/plain": "<Figure size 432x288 with 1 Axes>",
      "image/png": "[encoded data removed]"
     },
     "metadata": {
      "needs_background": "light"
     },
     "output_type": "display_data"
    },
    {
     "data": {
      "text/plain": "<Figure size 432x288 with 1 Axes>",
      "image/png": "[encoded data removed]"
     },
     "metadata": {
      "needs_background": "light"
     },
     "output_type": "display_data"
    },
    {
     "data": {
      "text/plain": "<Figure size 432x288 with 1 Axes>",
      "image/png": "[encoded data removed]"
     },
     "metadata": {
      "needs_background": "light"
     },
     "output_type": "display_data"
    },
    {
     "data": {
      "text/plain": "<Figure size 432x288 with 1 Axes>",
      "image/png": "[encoded data removed]"
     },
     "metadata": {
      "needs_background": "light"
     },
     "output_type": "display_data"
    },
    {
     "data": {
      "text/plain": "<Figure size 432x288 with 1 Axes>",
      "image/png": "[encoded data removed]"
     },
     "metadata": {
      "needs_background": "light"
     },
     "output_type": "display_data"
    },
    {
     "data": {
      "text/plain": "<Figure size 432x288 with 1 Axes>",
      "image/png": "[encoded data removed]"
     },
     "metadata": {
      "needs_background": "light"
     },
     "output_type": "display_data"
    },
    {
     "data": {
      "text/plain": "<Figure size 432x288 with 1 Axes>",
      "image/png": "[encoded data removed]"
     },
     "metadata": {
      "needs_background": "light"
     },
     "output_type": "display_data"
    },
    {
     "data": {
      "text/plain": "<Figure size 432x288 with 1 Axes>",
      "image/png": "[encoded data removed]"
     },
     "metadata": {
      "needs_background": "light"
     },
     "output_type": "display_data"
    },
    {
     "data": {
      "text/plain": "<Figure size 432x288 with 1 Axes>",
      "image/png": "[encoded data removed]"
     },
     "metadata": {
      "needs_background": "light"
     },
     "output_type": "display_data"
    },
    {
     "data": {
      "text/plain": "<Figure size 432x288 with 1 Axes>",
      "image/png": "[encoded data removed]"
     },
     "metadata": {
      "needs_background": "light"
     },
     "output_type": "display_data"
    },
    {
     "data": {
      "text/plain": "<Figure size 432x288 with 1 Axes>",
      "image/png": "[encoded data removed]"
     },
     "metadata": {
      "needs_background": "light"
     },
     "output_type": "display_data"
    },
    {
     "data": {
      "text/plain": "<Figure size 432x288 with 1 Axes>",
      "image/png": "[encoded data removed]"
     },
     "metadata": {
      "needs_background": "light"
     },
     "output_type": "display_data"
    },
    {
     "data": {
      "text/plain": "<Figure size 432x288 with 1 Axes>",
      "image/png": "[encoded data removed]"
     },
     "metadata": {
      "needs_background": "light"
     },
     "output_type": "display_data"
    },
    {
     "data": {
      "text/plain": "<Figure size 432x288 with 1 Axes>",
      "image/png": "[encoded data removed]"
     },
     "metadata": {
      "needs_background": "light"
     },
     "output_type": "display_data"
    },
    {
     "data": {
      "text/plain": "<Figure size 432x288 with 1 Axes>",
      "image/png": "[encoded data removed]"
     },
     "metadata": {
      "needs_background": "light"
     },
     "output_type": "display_data"
    },
    {
     "data": {
      "text/plain": "<Figure size 432x288 with 1 Axes>",
      "image/png": "[encoded data removed]"
     },
     "metadata": {
      "needs_background": "light"
     },
     "output_type": "display_data"
    },
    {
     "data": {
      "text/plain": "<Figure size 432x288 with 1 Axes>",
      "image/png": "[encoded data removed]"
     },
     "metadata": {
      "needs_background": "light"
     },
     "output_type": "display_data"
    },
    {
     "data": {
      "text/plain": "<Figure size 432x288 with 1 Axes>",
      "image/png": "[encoded data removed]"
     },
     "metadata": {
      "needs_background": "light"
     },
     "output_type": "display_data"
    },
    {
     "data": {
      "text/plain": "<Figure size 432x288 with 1 Axes>",
      "image/png": "[encoded data removed]"
     },
     "metadata": {
      "needs_background": "light"
     },
     "output_type": "display_data"
    },
    {
     "data": {
      "text/plain": "<Figure size 432x288 with 1 Axes>",
      "image/png": "[encoded data removed]"
     },
     "metadata": {
      "needs_background": "light"
     },
     "output_type": "display_data"
    },
    {
     "data": {
      "text/plain": "<Figure size 432x288 with 1 Axes>",
      "image/png": "[encoded data removed]"
     },
     "metadata": {
      "needs_background": "light"
     },
     "output_type": "display_data"
    },
    {
     "data": {
      "text/plain": "<Figure size 432x288 with 1 Axes>",
      "image/png": "[encoded data removed]"
     },
     "metadata": {
      "needs_background": "light"
     },
     "output_type": "display_data"
    }
   ],
   "source": [
    "import time\n",
    "for i, recommendation in enumerate(results):\n",
    "    fig, ax = plt.subplots()\n",
    "    ax.scatter(y=recommendation.value, x=list(range(len(recommendation.value))))\n",
    "    fig.savefig(f\"./scatter{i}-{time.strftime('%m%d%Y%H%M%S')}.png\")"
   ],
   "metadata": {
    "collapsed": false,
    "pycharm": {
     "name": "#%%\n"
    }
   }
  },
  {
   "cell_type": "code",
   "execution_count": null,
   "outputs": [],
   "source": [],
   "metadata": {
    "collapsed": false,
    "pycharm": {
     "name": "#%%\n"
    }
   }
  }
 ],
 "metadata": {
  "kernelspec": {
   "display_name": "Python 3",
   "language": "python",
   "name": "python3"
  },
  "language_info": {
   "codemirror_mode": {
    "name": "ipython",
    "version": 2
   },
   "file_extension": ".py",
   "mimetype": "text/x-python",
   "name": "python",
   "nbconvert_exporter": "python",
   "pygments_lexer": "ipython2",
   "version": "2.7.6"
  }
 },
 "nbformat": 4,
 "nbformat_minor": 0
}